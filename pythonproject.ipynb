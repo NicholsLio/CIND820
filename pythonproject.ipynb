{
 "cells": [
  {
   "cell_type": "code",
   "execution_count": 217,
   "metadata": {},
   "outputs": [],
   "source": [
    "import pandas as pd\n",
    "import numpy as np \n",
    "import seaborn as sns\n",
    "import matplotlib.pyplot as plt\n",
    "import timeit"
   ]
  },
  {
   "cell_type": "code",
   "execution_count": 218,
   "metadata": {},
   "outputs": [
    {
     "data": {
      "text/html": [
       "<div>\n",
       "<style scoped>\n",
       "    .dataframe tbody tr th:only-of-type {\n",
       "        vertical-align: middle;\n",
       "    }\n",
       "\n",
       "    .dataframe tbody tr th {\n",
       "        vertical-align: top;\n",
       "    }\n",
       "\n",
       "    .dataframe thead th {\n",
       "        text-align: right;\n",
       "    }\n",
       "</style>\n",
       "<table border=\"1\" class=\"dataframe\">\n",
       "  <thead>\n",
       "    <tr style=\"text-align: right;\">\n",
       "      <th></th>\n",
       "      <th>instant</th>\n",
       "      <th>dteday</th>\n",
       "      <th>season</th>\n",
       "      <th>yr</th>\n",
       "      <th>mnth</th>\n",
       "      <th>hr</th>\n",
       "      <th>holiday</th>\n",
       "      <th>weekday</th>\n",
       "      <th>workingday</th>\n",
       "      <th>weathersit</th>\n",
       "      <th>temp</th>\n",
       "      <th>atemp</th>\n",
       "      <th>hum</th>\n",
       "      <th>windspeed</th>\n",
       "      <th>casual</th>\n",
       "      <th>registered</th>\n",
       "      <th>cnt</th>\n",
       "    </tr>\n",
       "  </thead>\n",
       "  <tbody>\n",
       "    <tr>\n",
       "      <th>0</th>\n",
       "      <td>1</td>\n",
       "      <td>2011-01-01</td>\n",
       "      <td>1</td>\n",
       "      <td>0</td>\n",
       "      <td>1</td>\n",
       "      <td>0</td>\n",
       "      <td>0</td>\n",
       "      <td>6</td>\n",
       "      <td>0</td>\n",
       "      <td>1</td>\n",
       "      <td>0.24</td>\n",
       "      <td>0.2879</td>\n",
       "      <td>0.81</td>\n",
       "      <td>0.0</td>\n",
       "      <td>3</td>\n",
       "      <td>13</td>\n",
       "      <td>16</td>\n",
       "    </tr>\n",
       "    <tr>\n",
       "      <th>1</th>\n",
       "      <td>2</td>\n",
       "      <td>2011-01-01</td>\n",
       "      <td>1</td>\n",
       "      <td>0</td>\n",
       "      <td>1</td>\n",
       "      <td>1</td>\n",
       "      <td>0</td>\n",
       "      <td>6</td>\n",
       "      <td>0</td>\n",
       "      <td>1</td>\n",
       "      <td>0.22</td>\n",
       "      <td>0.2727</td>\n",
       "      <td>0.80</td>\n",
       "      <td>0.0</td>\n",
       "      <td>8</td>\n",
       "      <td>32</td>\n",
       "      <td>40</td>\n",
       "    </tr>\n",
       "    <tr>\n",
       "      <th>2</th>\n",
       "      <td>3</td>\n",
       "      <td>2011-01-01</td>\n",
       "      <td>1</td>\n",
       "      <td>0</td>\n",
       "      <td>1</td>\n",
       "      <td>2</td>\n",
       "      <td>0</td>\n",
       "      <td>6</td>\n",
       "      <td>0</td>\n",
       "      <td>1</td>\n",
       "      <td>0.22</td>\n",
       "      <td>0.2727</td>\n",
       "      <td>0.80</td>\n",
       "      <td>0.0</td>\n",
       "      <td>5</td>\n",
       "      <td>27</td>\n",
       "      <td>32</td>\n",
       "    </tr>\n",
       "    <tr>\n",
       "      <th>3</th>\n",
       "      <td>4</td>\n",
       "      <td>2011-01-01</td>\n",
       "      <td>1</td>\n",
       "      <td>0</td>\n",
       "      <td>1</td>\n",
       "      <td>3</td>\n",
       "      <td>0</td>\n",
       "      <td>6</td>\n",
       "      <td>0</td>\n",
       "      <td>1</td>\n",
       "      <td>0.24</td>\n",
       "      <td>0.2879</td>\n",
       "      <td>0.75</td>\n",
       "      <td>0.0</td>\n",
       "      <td>3</td>\n",
       "      <td>10</td>\n",
       "      <td>13</td>\n",
       "    </tr>\n",
       "    <tr>\n",
       "      <th>4</th>\n",
       "      <td>5</td>\n",
       "      <td>2011-01-01</td>\n",
       "      <td>1</td>\n",
       "      <td>0</td>\n",
       "      <td>1</td>\n",
       "      <td>4</td>\n",
       "      <td>0</td>\n",
       "      <td>6</td>\n",
       "      <td>0</td>\n",
       "      <td>1</td>\n",
       "      <td>0.24</td>\n",
       "      <td>0.2879</td>\n",
       "      <td>0.75</td>\n",
       "      <td>0.0</td>\n",
       "      <td>0</td>\n",
       "      <td>1</td>\n",
       "      <td>1</td>\n",
       "    </tr>\n",
       "  </tbody>\n",
       "</table>\n",
       "</div>"
      ],
      "text/plain": [
       "   instant      dteday  season  yr  mnth  hr  holiday  weekday  workingday  \\\n",
       "0        1  2011-01-01       1   0     1   0        0        6           0   \n",
       "1        2  2011-01-01       1   0     1   1        0        6           0   \n",
       "2        3  2011-01-01       1   0     1   2        0        6           0   \n",
       "3        4  2011-01-01       1   0     1   3        0        6           0   \n",
       "4        5  2011-01-01       1   0     1   4        0        6           0   \n",
       "\n",
       "   weathersit  temp   atemp   hum  windspeed  casual  registered  cnt  \n",
       "0           1  0.24  0.2879  0.81        0.0       3          13   16  \n",
       "1           1  0.22  0.2727  0.80        0.0       8          32   40  \n",
       "2           1  0.22  0.2727  0.80        0.0       5          27   32  \n",
       "3           1  0.24  0.2879  0.75        0.0       3          10   13  \n",
       "4           1  0.24  0.2879  0.75        0.0       0           1    1  "
      ]
     },
     "execution_count": 218,
     "metadata": {},
     "output_type": "execute_result"
    }
   ],
   "source": [
    "df = pd.read_csv(\"hour.csv\")\n",
    "df.head()"
   ]
  },
  {
   "cell_type": "code",
   "execution_count": 219,
   "metadata": {},
   "outputs": [
    {
     "data": {
      "text/plain": [
       "instant         int64\n",
       "dteday         object\n",
       "season          int64\n",
       "yr              int64\n",
       "mnth            int64\n",
       "hr              int64\n",
       "holiday         int64\n",
       "weekday         int64\n",
       "workingday      int64\n",
       "weathersit      int64\n",
       "temp          float64\n",
       "atemp         float64\n",
       "hum           float64\n",
       "windspeed     float64\n",
       "casual          int64\n",
       "registered      int64\n",
       "cnt             int64\n",
       "dtype: object"
      ]
     },
     "execution_count": 219,
     "metadata": {},
     "output_type": "execute_result"
    }
   ],
   "source": [
    "df.dtypes"
   ]
  },
  {
   "cell_type": "code",
   "execution_count": 220,
   "metadata": {},
   "outputs": [
    {
     "data": {
      "text/html": [
       "<div>\n",
       "<style scoped>\n",
       "    .dataframe tbody tr th:only-of-type {\n",
       "        vertical-align: middle;\n",
       "    }\n",
       "\n",
       "    .dataframe tbody tr th {\n",
       "        vertical-align: top;\n",
       "    }\n",
       "\n",
       "    .dataframe thead th {\n",
       "        text-align: right;\n",
       "    }\n",
       "</style>\n",
       "<table border=\"1\" class=\"dataframe\">\n",
       "  <thead>\n",
       "    <tr style=\"text-align: right;\">\n",
       "      <th></th>\n",
       "      <th>Total</th>\n",
       "      <th>Percent</th>\n",
       "    </tr>\n",
       "  </thead>\n",
       "  <tbody>\n",
       "    <tr>\n",
       "      <th>cnt</th>\n",
       "      <td>0</td>\n",
       "      <td>0.0</td>\n",
       "    </tr>\n",
       "    <tr>\n",
       "      <th>weekday</th>\n",
       "      <td>0</td>\n",
       "      <td>0.0</td>\n",
       "    </tr>\n",
       "    <tr>\n",
       "      <th>dteday</th>\n",
       "      <td>0</td>\n",
       "      <td>0.0</td>\n",
       "    </tr>\n",
       "    <tr>\n",
       "      <th>season</th>\n",
       "      <td>0</td>\n",
       "      <td>0.0</td>\n",
       "    </tr>\n",
       "    <tr>\n",
       "      <th>yr</th>\n",
       "      <td>0</td>\n",
       "      <td>0.0</td>\n",
       "    </tr>\n",
       "    <tr>\n",
       "      <th>mnth</th>\n",
       "      <td>0</td>\n",
       "      <td>0.0</td>\n",
       "    </tr>\n",
       "    <tr>\n",
       "      <th>hr</th>\n",
       "      <td>0</td>\n",
       "      <td>0.0</td>\n",
       "    </tr>\n",
       "    <tr>\n",
       "      <th>holiday</th>\n",
       "      <td>0</td>\n",
       "      <td>0.0</td>\n",
       "    </tr>\n",
       "    <tr>\n",
       "      <th>workingday</th>\n",
       "      <td>0</td>\n",
       "      <td>0.0</td>\n",
       "    </tr>\n",
       "    <tr>\n",
       "      <th>registered</th>\n",
       "      <td>0</td>\n",
       "      <td>0.0</td>\n",
       "    </tr>\n",
       "    <tr>\n",
       "      <th>weathersit</th>\n",
       "      <td>0</td>\n",
       "      <td>0.0</td>\n",
       "    </tr>\n",
       "    <tr>\n",
       "      <th>temp</th>\n",
       "      <td>0</td>\n",
       "      <td>0.0</td>\n",
       "    </tr>\n",
       "    <tr>\n",
       "      <th>atemp</th>\n",
       "      <td>0</td>\n",
       "      <td>0.0</td>\n",
       "    </tr>\n",
       "    <tr>\n",
       "      <th>hum</th>\n",
       "      <td>0</td>\n",
       "      <td>0.0</td>\n",
       "    </tr>\n",
       "    <tr>\n",
       "      <th>windspeed</th>\n",
       "      <td>0</td>\n",
       "      <td>0.0</td>\n",
       "    </tr>\n",
       "    <tr>\n",
       "      <th>casual</th>\n",
       "      <td>0</td>\n",
       "      <td>0.0</td>\n",
       "    </tr>\n",
       "    <tr>\n",
       "      <th>instant</th>\n",
       "      <td>0</td>\n",
       "      <td>0.0</td>\n",
       "    </tr>\n",
       "  </tbody>\n",
       "</table>\n",
       "</div>"
      ],
      "text/plain": [
       "            Total  Percent\n",
       "cnt             0      0.0\n",
       "weekday         0      0.0\n",
       "dteday          0      0.0\n",
       "season          0      0.0\n",
       "yr              0      0.0\n",
       "mnth            0      0.0\n",
       "hr              0      0.0\n",
       "holiday         0      0.0\n",
       "workingday      0      0.0\n",
       "registered      0      0.0\n",
       "weathersit      0      0.0\n",
       "temp            0      0.0\n",
       "atemp           0      0.0\n",
       "hum             0      0.0\n",
       "windspeed       0      0.0\n",
       "casual          0      0.0\n",
       "instant         0      0.0"
      ]
     },
     "execution_count": 220,
     "metadata": {},
     "output_type": "execute_result"
    }
   ],
   "source": [
    "total = df.isnull().sum().sort_values(ascending=False)\n",
    "percent = (df.isnull().sum()/df.isnull().count()).sort_values(ascending=False)\n",
    "missing_data = pd.concat([total, percent], axis=1, keys=['Total', 'Percent'])\n",
    "missing_data.head(20)"
   ]
  },
  {
   "cell_type": "code",
   "execution_count": 221,
   "metadata": {},
   "outputs": [
    {
     "data": {
      "text/plain": [
       "count    17379.000000\n",
       "mean       189.463088\n",
       "std        181.387599\n",
       "min          1.000000\n",
       "25%         40.000000\n",
       "50%        142.000000\n",
       "75%        281.000000\n",
       "max        977.000000\n",
       "Name: cnt, dtype: float64"
      ]
     },
     "execution_count": 221,
     "metadata": {},
     "output_type": "execute_result"
    }
   ],
   "source": [
    "df['cnt'].describe()"
   ]
  },
  {
   "cell_type": "code",
   "execution_count": 222,
   "metadata": {},
   "outputs": [
    {
     "data": {
      "image/png": "[encoded data removed]",
      "text/plain": [
       "<Figure size 432x288 with 1 Axes>"
      ]
     },
     "metadata": {},
     "output_type": "display_data"
    }
   ],
   "source": [
    "sns.distplot(df['cnt']);"
   ]
  },
  {
   "cell_type": "code",
   "execution_count": 223,
   "metadata": {},
   "outputs": [
    {
     "name": "stdout",
     "output_type": "stream",
     "text": [
      "Skewness: 1.277412\n",
      "Kurtosis: 1.417203\n"
     ]
    }
   ],
   "source": [
    "print(\"Skewness: %f\" % df['cnt'].skew())\n",
    "print(\"Kurtosis: %f\" % df['cnt'].kurt())"
   ]
  },
  {
   "cell_type": "code",
   "execution_count": 224,
   "metadata": {},
   "outputs": [
    {
     "data": {
      "image/png": "[encoded data removed]",
      "text/plain": [
       "<Figure size 864x648 with 2 Axes>"
      ]
     },
     "metadata": {},
     "output_type": "display_data"
    }
   ],
   "source": [
    "#correlation matrix\n",
    "corrmat = df.corr()\n",
    "f, ax = plt.subplots(figsize=(12, 9))\n",
    "sns.heatmap(corrmat, vmax=.8, square=True);"
   ]
  },
  {
   "cell_type": "code",
   "execution_count": 225,
   "metadata": {},
   "outputs": [
    {
     "data": {
      "image/png": "[encoded data removed]",
      "text/plain": [
       "<Figure size 432x288 with 2 Axes>"
      ]
     },
     "metadata": {},
     "output_type": "display_data"
    }
   ],
   "source": [
    "k = 17\n",
    "cols = corrmat.nlargest(k, 'cnt')['cnt'].index\n",
    "cm = np.corrcoef(df[cols].values.T)\n",
    "sns.set(font_scale=1.25)\n",
    "hm = sns.heatmap(cm, cbar=True, annot=True, square=True, fmt='.2f', annot_kws={'size': 6}, yticklabels=cols.values, xticklabels=cols.values)\n",
    "plt.show()"
   ]
  },
  {
   "cell_type": "code",
   "execution_count": 226,
   "metadata": {},
   "outputs": [
    {
     "name": "stdout",
     "output_type": "stream",
     "text": [
      "(17379, 17)\n"
     ]
    }
   ],
   "source": [
    "print(df.shape)"
   ]
  },
  {
   "cell_type": "code",
   "execution_count": 227,
   "metadata": {},
   "outputs": [
    {
     "data": {
      "text/html": [
       "<div>\n",
       "<style scoped>\n",
       "    .dataframe tbody tr th:only-of-type {\n",
       "        vertical-align: middle;\n",
       "    }\n",
       "\n",
       "    .dataframe tbody tr th {\n",
       "        vertical-align: top;\n",
       "    }\n",
       "\n",
       "    .dataframe thead th {\n",
       "        text-align: right;\n",
       "    }\n",
       "</style>\n",
       "<table border=\"1\" class=\"dataframe\">\n",
       "  <thead>\n",
       "    <tr style=\"text-align: right;\">\n",
       "      <th></th>\n",
       "      <th>instant</th>\n",
       "      <th>dteday</th>\n",
       "      <th>season</th>\n",
       "      <th>yr</th>\n",
       "      <th>mnth</th>\n",
       "      <th>hr</th>\n",
       "      <th>holiday</th>\n",
       "      <th>weekday</th>\n",
       "      <th>workingday</th>\n",
       "      <th>weathersit</th>\n",
       "      <th>temp</th>\n",
       "      <th>atemp</th>\n",
       "      <th>hum</th>\n",
       "      <th>windspeed</th>\n",
       "      <th>casual</th>\n",
       "      <th>registered</th>\n",
       "      <th>cnt</th>\n",
       "    </tr>\n",
       "  </thead>\n",
       "  <tbody>\n",
       "    <tr>\n",
       "      <th>0</th>\n",
       "      <td>1</td>\n",
       "      <td>2011-01-01</td>\n",
       "      <td>1</td>\n",
       "      <td>0</td>\n",
       "      <td>1</td>\n",
       "      <td>0</td>\n",
       "      <td>0</td>\n",
       "      <td>6</td>\n",
       "      <td>0</td>\n",
       "      <td>1</td>\n",
       "      <td>0.24</td>\n",
       "      <td>0.2879</td>\n",
       "      <td>0.81</td>\n",
       "      <td>0.0000</td>\n",
       "      <td>3</td>\n",
       "      <td>13</td>\n",
       "      <td>16</td>\n",
       "    </tr>\n",
       "    <tr>\n",
       "      <th>1</th>\n",
       "      <td>2</td>\n",
       "      <td>2011-01-01</td>\n",
       "      <td>1</td>\n",
       "      <td>0</td>\n",
       "      <td>1</td>\n",
       "      <td>1</td>\n",
       "      <td>0</td>\n",
       "      <td>6</td>\n",
       "      <td>0</td>\n",
       "      <td>1</td>\n",
       "      <td>0.22</td>\n",
       "      <td>0.2727</td>\n",
       "      <td>0.80</td>\n",
       "      <td>0.0000</td>\n",
       "      <td>8</td>\n",
       "      <td>32</td>\n",
       "      <td>40</td>\n",
       "    </tr>\n",
       "    <tr>\n",
       "      <th>2</th>\n",
       "      <td>3</td>\n",
       "      <td>2011-01-01</td>\n",
       "      <td>1</td>\n",
       "      <td>0</td>\n",
       "      <td>1</td>\n",
       "      <td>2</td>\n",
       "      <td>0</td>\n",
       "      <td>6</td>\n",
       "      <td>0</td>\n",
       "      <td>1</td>\n",
       "      <td>0.22</td>\n",
       "      <td>0.2727</td>\n",
       "      <td>0.80</td>\n",
       "      <td>0.0000</td>\n",
       "      <td>5</td>\n",
       "      <td>27</td>\n",
       "      <td>32</td>\n",
       "    </tr>\n",
       "    <tr>\n",
       "      <th>3</th>\n",
       "      <td>4</td>\n",
       "      <td>2011-01-01</td>\n",
       "      <td>1</td>\n",
       "      <td>0</td>\n",
       "      <td>1</td>\n",
       "      <td>3</td>\n",
       "      <td>0</td>\n",
       "      <td>6</td>\n",
       "      <td>0</td>\n",
       "      <td>1</td>\n",
       "      <td>0.24</td>\n",
       "      <td>0.2879</td>\n",
       "      <td>0.75</td>\n",
       "      <td>0.0000</td>\n",
       "      <td>3</td>\n",
       "      <td>10</td>\n",
       "      <td>13</td>\n",
       "    </tr>\n",
       "    <tr>\n",
       "      <th>4</th>\n",
       "      <td>5</td>\n",
       "      <td>2011-01-01</td>\n",
       "      <td>1</td>\n",
       "      <td>0</td>\n",
       "      <td>1</td>\n",
       "      <td>4</td>\n",
       "      <td>0</td>\n",
       "      <td>6</td>\n",
       "      <td>0</td>\n",
       "      <td>1</td>\n",
       "      <td>0.24</td>\n",
       "      <td>0.2879</td>\n",
       "      <td>0.75</td>\n",
       "      <td>0.0000</td>\n",
       "      <td>0</td>\n",
       "      <td>1</td>\n",
       "      <td>1</td>\n",
       "    </tr>\n",
       "    <tr>\n",
       "      <th>...</th>\n",
       "      <td>...</td>\n",
       "      <td>...</td>\n",
       "      <td>...</td>\n",
       "      <td>...</td>\n",
       "      <td>...</td>\n",
       "      <td>...</td>\n",
       "      <td>...</td>\n",
       "      <td>...</td>\n",
       "      <td>...</td>\n",
       "      <td>...</td>\n",
       "      <td>...</td>\n",
       "      <td>...</td>\n",
       "      <td>...</td>\n",
       "      <td>...</td>\n",
       "      <td>...</td>\n",
       "      <td>...</td>\n",
       "      <td>...</td>\n",
       "    </tr>\n",
       "    <tr>\n",
       "      <th>17374</th>\n",
       "      <td>17375</td>\n",
       "      <td>2012-12-31</td>\n",
       "      <td>1</td>\n",
       "      <td>1</td>\n",
       "      <td>12</td>\n",
       "      <td>19</td>\n",
       "      <td>0</td>\n",
       "      <td>1</td>\n",
       "      <td>1</td>\n",
       "      <td>2</td>\n",
       "      <td>0.26</td>\n",
       "      <td>0.2576</td>\n",
       "      <td>0.60</td>\n",
       "      <td>0.1642</td>\n",
       "      <td>11</td>\n",
       "      <td>108</td>\n",
       "      <td>119</td>\n",
       "    </tr>\n",
       "    <tr>\n",
       "      <th>17375</th>\n",
       "      <td>17376</td>\n",
       "      <td>2012-12-31</td>\n",
       "      <td>1</td>\n",
       "      <td>1</td>\n",
       "      <td>12</td>\n",
       "      <td>20</td>\n",
       "      <td>0</td>\n",
       "      <td>1</td>\n",
       "      <td>1</td>\n",
       "      <td>2</td>\n",
       "      <td>0.26</td>\n",
       "      <td>0.2576</td>\n",
       "      <td>0.60</td>\n",
       "      <td>0.1642</td>\n",
       "      <td>8</td>\n",
       "      <td>81</td>\n",
       "      <td>89</td>\n",
       "    </tr>\n",
       "    <tr>\n",
       "      <th>17376</th>\n",
       "      <td>17377</td>\n",
       "      <td>2012-12-31</td>\n",
       "      <td>1</td>\n",
       "      <td>1</td>\n",
       "      <td>12</td>\n",
       "      <td>21</td>\n",
       "      <td>0</td>\n",
       "      <td>1</td>\n",
       "      <td>1</td>\n",
       "      <td>1</td>\n",
       "      <td>0.26</td>\n",
       "      <td>0.2576</td>\n",
       "      <td>0.60</td>\n",
       "      <td>0.1642</td>\n",
       "      <td>7</td>\n",
       "      <td>83</td>\n",
       "      <td>90</td>\n",
       "    </tr>\n",
       "    <tr>\n",
       "      <th>17377</th>\n",
       "      <td>17378</td>\n",
       "      <td>2012-12-31</td>\n",
       "      <td>1</td>\n",
       "      <td>1</td>\n",
       "      <td>12</td>\n",
       "      <td>22</td>\n",
       "      <td>0</td>\n",
       "      <td>1</td>\n",
       "      <td>1</td>\n",
       "      <td>1</td>\n",
       "      <td>0.26</td>\n",
       "      <td>0.2727</td>\n",
       "      <td>0.56</td>\n",
       "      <td>0.1343</td>\n",
       "      <td>13</td>\n",
       "      <td>48</td>\n",
       "      <td>61</td>\n",
       "    </tr>\n",
       "    <tr>\n",
       "      <th>17378</th>\n",
       "      <td>17379</td>\n",
       "      <td>2012-12-31</td>\n",
       "      <td>1</td>\n",
       "      <td>1</td>\n",
       "      <td>12</td>\n",
       "      <td>23</td>\n",
       "      <td>0</td>\n",
       "      <td>1</td>\n",
       "      <td>1</td>\n",
       "      <td>1</td>\n",
       "      <td>0.26</td>\n",
       "      <td>0.2727</td>\n",
       "      <td>0.65</td>\n",
       "      <td>0.1343</td>\n",
       "      <td>12</td>\n",
       "      <td>37</td>\n",
       "      <td>49</td>\n",
       "    </tr>\n",
       "  </tbody>\n",
       "</table>\n",
       "<p>17379 rows × 17 columns</p>\n",
       "</div>"
      ],
      "text/plain": [
       "       instant      dteday  season  yr  mnth  hr  holiday  weekday  \\\n",
       "0            1  2011-01-01       1   0     1   0        0        6   \n",
       "1            2  2011-01-01       1   0     1   1        0        6   \n",
       "2            3  2011-01-01       1   0     1   2        0        6   \n",
       "3            4  2011-01-01       1   0     1   3        0        6   \n",
       "4            5  2011-01-01       1   0     1   4        0        6   \n",
       "...        ...         ...     ...  ..   ...  ..      ...      ...   \n",
       "17374    17375  2012-12-31       1   1    12  19        0        1   \n",
       "17375    17376  2012-12-31       1   1    12  20        0        1   \n",
       "17376    17377  2012-12-31       1   1    12  21        0        1   \n",
       "17377    17378  2012-12-31       1   1    12  22        0        1   \n",
       "17378    17379  2012-12-31       1   1    12  23        0        1   \n",
       "\n",
       "       workingday  weathersit  temp   atemp   hum  windspeed  casual  \\\n",
       "0               0           1  0.24  0.2879  0.81     0.0000       3   \n",
       "1               0           1  0.22  0.2727  0.80     0.0000       8   \n",
       "2               0           1  0.22  0.2727  0.80     0.0000       5   \n",
       "3               0           1  0.24  0.2879  0.75     0.0000       3   \n",
       "4               0           1  0.24  0.2879  0.75     0.0000       0   \n",
       "...           ...         ...   ...     ...   ...        ...     ...   \n",
       "17374           1           2  0.26  0.2576  0.60     0.1642      11   \n",
       "17375           1           2  0.26  0.2576  0.60     0.1642       8   \n",
       "17376           1           1  0.26  0.2576  0.60     0.1642       7   \n",
       "17377           1           1  0.26  0.2727  0.56     0.1343      13   \n",
       "17378           1           1  0.26  0.2727  0.65     0.1343      12   \n",
       "\n",
       "       registered  cnt  \n",
       "0              13   16  \n",
       "1              32   40  \n",
       "2              27   32  \n",
       "3              10   13  \n",
       "4               1    1  \n",
       "...           ...  ...  \n",
       "17374         108  119  \n",
       "17375          81   89  \n",
       "17376          83   90  \n",
       "17377          48   61  \n",
       "17378          37   49  \n",
       "\n",
       "[17379 rows x 17 columns]"
      ]
     },
     "execution_count": 227,
     "metadata": {},
     "output_type": "execute_result"
    }
   ],
   "source": [
    "#df = df.drop(columns = [\"temp\"])\n",
    "df"
   ]
  },
  {
   "cell_type": "code",
   "execution_count": 228,
   "metadata": {},
   "outputs": [
    {
     "data": {
      "image/png": "[encoded data removed]",
      "text/plain": [
       "<Figure size 432x288 with 2 Axes>"
      ]
     },
     "metadata": {},
     "output_type": "display_data"
    }
   ],
   "source": [
    "k = 16\n",
    "cols = corrmat.nlargest(k, 'cnt')['cnt'].index\n",
    "cm = np.corrcoef(df[cols].values.T)\n",
    "sns.set(font_scale=1.25)\n",
    "hm = sns.heatmap(cm, cbar=True, annot=True, square=True, fmt='.2f', annot_kws={'size': 6}, yticklabels=cols.values, xticklabels=cols.values)\n",
    "plt.show()"
   ]
  },
  {
   "cell_type": "code",
   "execution_count": 229,
   "metadata": {},
   "outputs": [
    {
     "data": {
      "text/plain": [
       "instant         int64\n",
       "dteday         object\n",
       "season          int64\n",
       "yr              int64\n",
       "mnth            int64\n",
       "hr              int64\n",
       "holiday         int64\n",
       "weekday         int64\n",
       "workingday      int64\n",
       "weathersit      int64\n",
       "temp          float64\n",
       "atemp         float64\n",
       "hum           float64\n",
       "windspeed     float64\n",
       "casual          int64\n",
       "registered      int64\n",
       "cnt             int64\n",
       "dtype: object"
      ]
     },
     "execution_count": 229,
     "metadata": {},
     "output_type": "execute_result"
    }
   ],
   "source": [
    "df.dtypes"
   ]
  },
  {
   "cell_type": "code",
   "execution_count": 230,
   "metadata": {},
   "outputs": [
    {
     "data": {
      "text/plain": [
       "0         16\n",
       "1         40\n",
       "2         32\n",
       "3         13\n",
       "4          1\n",
       "        ... \n",
       "17374    119\n",
       "17375     89\n",
       "17376     90\n",
       "17377     61\n",
       "17378     49\n",
       "Name: cnt, Length: 17379, dtype: int64"
      ]
     },
     "execution_count": 230,
     "metadata": {},
     "output_type": "execute_result"
    }
   ],
   "source": [
    "df[\"cnt\"]"
   ]
  },
  {
   "cell_type": "code",
   "execution_count": 231,
   "metadata": {},
   "outputs": [
    {
     "data": {
      "text/plain": [
       "'3'"
      ]
     },
     "execution_count": 231,
     "metadata": {},
     "output_type": "execute_result"
    }
   ],
   "source": [
    "no_riders = tuple(range(0))\n",
    "low = tuple(range(1, 50, 1))\n",
    "med = tuple(range(50, 600, 1))\n",
    "high = tuple(range(600, 1000000, 1))\n",
    "# Defineing peramiters names\n",
    "def filter_riders(platform):\n",
    "    if platform in no_riders:\n",
    "        return '0'\n",
    "    elif platform in low:\n",
    "        return '1'\n",
    "    elif platform in med:\n",
    "        return '2'\n",
    "    else:\n",
    "        return '3'\n",
    "\n",
    "\n",
    "filter_riders(0)\n"
   ]
  },
  {
   "cell_type": "code",
   "execution_count": 232,
   "metadata": {},
   "outputs": [],
   "source": [
    "df['cnt'].apply(filter_riders)\n",
    "df['riders'] = df['cnt'].apply(filter_riders)\n",
    "df = df.drop(columns = [\"cnt\"])\n",
    "df = df.drop(columns = [\"dteday\"])"
   ]
  },
  {
   "cell_type": "code",
   "execution_count": 233,
   "metadata": {},
   "outputs": [
    {
     "data": {
      "text/html": [
       "<div>\n",
       "<style scoped>\n",
       "    .dataframe tbody tr th:only-of-type {\n",
       "        vertical-align: middle;\n",
       "    }\n",
       "\n",
       "    .dataframe tbody tr th {\n",
       "        vertical-align: top;\n",
       "    }\n",
       "\n",
       "    .dataframe thead th {\n",
       "        text-align: right;\n",
       "    }\n",
       "</style>\n",
       "<table border=\"1\" class=\"dataframe\">\n",
       "  <thead>\n",
       "    <tr style=\"text-align: right;\">\n",
       "      <th></th>\n",
       "      <th>instant</th>\n",
       "      <th>season</th>\n",
       "      <th>yr</th>\n",
       "      <th>mnth</th>\n",
       "      <th>hr</th>\n",
       "      <th>holiday</th>\n",
       "      <th>weekday</th>\n",
       "      <th>workingday</th>\n",
       "      <th>weathersit</th>\n",
       "      <th>temp</th>\n",
       "      <th>atemp</th>\n",
       "      <th>hum</th>\n",
       "      <th>windspeed</th>\n",
       "      <th>casual</th>\n",
       "      <th>registered</th>\n",
       "      <th>riders</th>\n",
       "    </tr>\n",
       "  </thead>\n",
       "  <tbody>\n",
       "    <tr>\n",
       "      <th>0</th>\n",
       "      <td>1</td>\n",
       "      <td>1</td>\n",
       "      <td>0</td>\n",
       "      <td>1</td>\n",
       "      <td>0</td>\n",
       "      <td>0</td>\n",
       "      <td>6</td>\n",
       "      <td>0</td>\n",
       "      <td>1</td>\n",
       "      <td>0.24</td>\n",
       "      <td>0.2879</td>\n",
       "      <td>0.81</td>\n",
       "      <td>0.0</td>\n",
       "      <td>3</td>\n",
       "      <td>13</td>\n",
       "      <td>1</td>\n",
       "    </tr>\n",
       "    <tr>\n",
       "      <th>1</th>\n",
       "      <td>2</td>\n",
       "      <td>1</td>\n",
       "      <td>0</td>\n",
       "      <td>1</td>\n",
       "      <td>1</td>\n",
       "      <td>0</td>\n",
       "      <td>6</td>\n",
       "      <td>0</td>\n",
       "      <td>1</td>\n",
       "      <td>0.22</td>\n",
       "      <td>0.2727</td>\n",
       "      <td>0.80</td>\n",
       "      <td>0.0</td>\n",
       "      <td>8</td>\n",
       "      <td>32</td>\n",
       "      <td>1</td>\n",
       "    </tr>\n",
       "    <tr>\n",
       "      <th>2</th>\n",
       "      <td>3</td>\n",
       "      <td>1</td>\n",
       "      <td>0</td>\n",
       "      <td>1</td>\n",
       "      <td>2</td>\n",
       "      <td>0</td>\n",
       "      <td>6</td>\n",
       "      <td>0</td>\n",
       "      <td>1</td>\n",
       "      <td>0.22</td>\n",
       "      <td>0.2727</td>\n",
       "      <td>0.80</td>\n",
       "      <td>0.0</td>\n",
       "      <td>5</td>\n",
       "      <td>27</td>\n",
       "      <td>1</td>\n",
       "    </tr>\n",
       "    <tr>\n",
       "      <th>3</th>\n",
       "      <td>4</td>\n",
       "      <td>1</td>\n",
       "      <td>0</td>\n",
       "      <td>1</td>\n",
       "      <td>3</td>\n",
       "      <td>0</td>\n",
       "      <td>6</td>\n",
       "      <td>0</td>\n",
       "      <td>1</td>\n",
       "      <td>0.24</td>\n",
       "      <td>0.2879</td>\n",
       "      <td>0.75</td>\n",
       "      <td>0.0</td>\n",
       "      <td>3</td>\n",
       "      <td>10</td>\n",
       "      <td>1</td>\n",
       "    </tr>\n",
       "    <tr>\n",
       "      <th>4</th>\n",
       "      <td>5</td>\n",
       "      <td>1</td>\n",
       "      <td>0</td>\n",
       "      <td>1</td>\n",
       "      <td>4</td>\n",
       "      <td>0</td>\n",
       "      <td>6</td>\n",
       "      <td>0</td>\n",
       "      <td>1</td>\n",
       "      <td>0.24</td>\n",
       "      <td>0.2879</td>\n",
       "      <td>0.75</td>\n",
       "      <td>0.0</td>\n",
       "      <td>0</td>\n",
       "      <td>1</td>\n",
       "      <td>1</td>\n",
       "    </tr>\n",
       "  </tbody>\n",
       "</table>\n",
       "</div>"
      ],
      "text/plain": [
       "   instant  season  yr  mnth  hr  holiday  weekday  workingday  weathersit  \\\n",
       "0        1       1   0     1   0        0        6           0           1   \n",
       "1        2       1   0     1   1        0        6           0           1   \n",
       "2        3       1   0     1   2        0        6           0           1   \n",
       "3        4       1   0     1   3        0        6           0           1   \n",
       "4        5       1   0     1   4        0        6           0           1   \n",
       "\n",
       "   temp   atemp   hum  windspeed  casual  registered riders  \n",
       "0  0.24  0.2879  0.81        0.0       3          13      1  \n",
       "1  0.22  0.2727  0.80        0.0       8          32      1  \n",
       "2  0.22  0.2727  0.80        0.0       5          27      1  \n",
       "3  0.24  0.2879  0.75        0.0       3          10      1  \n",
       "4  0.24  0.2879  0.75        0.0       0           1      1  "
      ]
     },
     "execution_count": 233,
     "metadata": {},
     "output_type": "execute_result"
    }
   ],
   "source": [
    "df.head()"
   ]
  },
  {
   "cell_type": "code",
   "execution_count": 234,
   "metadata": {},
   "outputs": [
    {
     "data": {
      "text/plain": [
       "instant         int64\n",
       "season          int64\n",
       "yr              int64\n",
       "mnth            int64\n",
       "hr              int64\n",
       "holiday         int64\n",
       "weekday         int64\n",
       "workingday      int64\n",
       "weathersit      int64\n",
       "temp          float64\n",
       "atemp         float64\n",
       "hum           float64\n",
       "windspeed     float64\n",
       "casual          int64\n",
       "registered      int64\n",
       "riders         object\n",
       "dtype: object"
      ]
     },
     "execution_count": 234,
     "metadata": {},
     "output_type": "execute_result"
    }
   ],
   "source": [
    "df.dtypes"
   ]
  },
  {
   "cell_type": "code",
   "execution_count": 235,
   "metadata": {},
   "outputs": [],
   "source": [
    "# Defining Data into X1,y1\n",
    "X1 = np.array(df.iloc[:,0:14])\n",
    "y1 = np.array(df['riders'])"
   ]
  },
  {
   "cell_type": "code",
   "execution_count": 236,
   "metadata": {},
   "outputs": [
    {
     "data": {
      "text/plain": [
       "2    11891\n",
       "1     4821\n",
       "3      667\n",
       "Name: riders, dtype: int64"
      ]
     },
     "execution_count": 236,
     "metadata": {},
     "output_type": "execute_result"
    }
   ],
   "source": [
    "df['riders'].value_counts()"
   ]
  },
  {
   "cell_type": "code",
   "execution_count": 237,
   "metadata": {},
   "outputs": [],
   "source": [
    "from sklearn.model_selection import train_test_split\n",
    "X1_train, X1_test, y1_train, y1_test = train_test_split(X1, y1,test_size= 0.3, random_state =42)"
   ]
  },
  {
   "cell_type": "code",
   "execution_count": 238,
   "metadata": {},
   "outputs": [
    {
     "name": "stdout",
     "output_type": "stream",
     "text": [
      "Accuracy of Decision tree 1 classifier on training set: 1.00\n",
      "Accuracy of Decision tree 1 classifier on test set: 0.93\n",
      "Time 1.4798715710639954e-08\n"
     ]
    }
   ],
   "source": [
    "# Decision Tree Classifier 1\n",
    "from sklearn.tree import DecisionTreeClassifier\n",
    "from sklearn import metrics\n",
    "clf1 = DecisionTreeClassifier().fit(X1_train, y1_train)\n",
    "print('Accuracy of Decision tree 1 classifier on training set: {:.2f}'.format(clf1.score(X1_train, y1_train)))\n",
    "print('Accuracy of Decision tree 1 classifier on test set: {:.2f}' .format(clf1.score(X1_test, y1_test)))\n",
    "elapsed_time = timeit.timeit( number=100)/100\n",
    "print('Time',elapsed_time)"
   ]
  },
  {
   "cell_type": "code",
   "execution_count": 239,
   "metadata": {},
   "outputs": [
    {
     "name": "stdout",
     "output_type": "stream",
     "text": [
      "[[1303  137    0]\n",
      " [ 142 3414   38]\n",
      " [   0   34  146]]\n",
      "              precision    recall  f1-score   support\n",
      "\n",
      "           1       0.90      0.90      0.90      1440\n",
      "           2       0.95      0.95      0.95      3594\n",
      "           3       0.79      0.81      0.80       180\n",
      "\n",
      "    accuracy                           0.93      5214\n",
      "   macro avg       0.88      0.89      0.89      5214\n",
      "weighted avg       0.93      0.93      0.93      5214\n",
      "\n"
     ]
    }
   ],
   "source": [
    "# Decision Tree Classification and Confusion matrix\n",
    "from sklearn.metrics import classification_report\n",
    "from sklearn.metrics import confusion_matrix\n",
    "pred1 = clf1.predict(X1_test)\n",
    "print(confusion_matrix(y1_test, pred1))\n",
    "print(classification_report(y1_test, pred1))"
   ]
  },
  {
   "cell_type": "code",
   "execution_count": 240,
   "metadata": {},
   "outputs": [
    {
     "name": "stdout",
     "output_type": "stream",
     "text": [
      "Accuracy of K-NN 1 classifier on training set: 0.89\n",
      "Accuracy of K-NN 1 classifier on test set: 0.83\n",
      "Time 1.646578311920166e-08\n"
     ]
    }
   ],
   "source": [
    "# KNN 1\n",
    "# Takes a long time\n",
    "from sklearn.neighbors import KNeighborsClassifier\n",
    "from sklearn.metrics import accuracy_score\n",
    "knn1 = KNeighborsClassifier()\n",
    "knn1.fit(X1_train, y1_train)\n",
    "print('Accuracy of K-NN 1 classifier on training set: {:.2f}'.format(knn1.score(X1_train,y1_train)))\n",
    "print('Accuracy of K-NN 1 classifier on test set: {:.2f}'.format(knn1.score(X1_test,y1_test)))\n",
    "elapsed_time = timeit.timeit( number=100)/100\n",
    "print('Time',elapsed_time)"
   ]
  },
  {
   "cell_type": "code",
   "execution_count": 241,
   "metadata": {},
   "outputs": [
    {
     "name": "stdout",
     "output_type": "stream",
     "text": [
      "[[1144  296    0]\n",
      " [ 434 3126   34]\n",
      " [   2  141   37]]\n",
      "              precision    recall  f1-score   support\n",
      "\n",
      "           1       0.72      0.79      0.76      1440\n",
      "           2       0.88      0.87      0.87      3594\n",
      "           3       0.52      0.21      0.29       180\n",
      "\n",
      "    accuracy                           0.83      5214\n",
      "   macro avg       0.71      0.62      0.64      5214\n",
      "weighted avg       0.82      0.83      0.82      5214\n",
      "\n"
     ]
    }
   ],
   "source": [
    "# KNN Classification and Confusion matrix\n",
    "from sklearn.metrics import classification_report\n",
    "from sklearn.metrics import confusion_matrix\n",
    "pred1 = knn1.predict(X1_test)\n",
    "print(confusion_matrix(y1_test, pred1))\n",
    "print(classification_report(y1_test, pred1))"
   ]
  },
  {
   "cell_type": "code",
   "execution_count": 242,
   "metadata": {},
   "outputs": [
    {
     "name": "stdout",
     "output_type": "stream",
     "text": [
      "Accuracy of SVM 1 classifier on training set: 0.68\n",
      "Accuracy of SVM 1 classifier on test set: 0.69\n",
      "Time 2.1997839212417603e-08\n"
     ]
    }
   ],
   "source": [
    "from sklearn.svm import SVC\n",
    "svm1= SVC(gamma= 'scale')\n",
    "svm1.fit(X1_train, y1_train)\n",
    "print('Accuracy of SVM 1 classifier on training set: {:.2f}'.format(svm1.score(X1_train, y1_train)))\n",
    "print('Accuracy of SVM 1 classifier on test set: {:.2f}'.format(svm1.score(X1_test, y1_test)))\n",
    "elapsed_time = timeit.timeit( number=100)/100\n",
    "print('Time',elapsed_time)"
   ]
  },
  {
   "cell_type": "code",
   "execution_count": 243,
   "metadata": {},
   "outputs": [
    {
     "name": "stdout",
     "output_type": "stream",
     "text": [
      "[[   0 1440    0]\n",
      " [   0 3594    0]\n",
      " [   0  180    0]]\n",
      "              precision    recall  f1-score   support\n",
      "\n",
      "           1       0.00      0.00      0.00      1440\n",
      "           2       0.69      1.00      0.82      3594\n",
      "           3       0.00      0.00      0.00       180\n",
      "\n",
      "    accuracy                           0.69      5214\n",
      "   macro avg       0.23      0.33      0.27      5214\n",
      "weighted avg       0.48      0.69      0.56      5214\n",
      "\n"
     ]
    },
    {
     "name": "stderr",
     "output_type": "stream",
     "text": [
      "/opt/conda/lib/python3.7/site-packages/sklearn/metrics/_classification.py:1272: UndefinedMetricWarning: Precision and F-score are ill-defined and being set to 0.0 in labels with no predicted samples. Use `zero_division` parameter to control this behavior.\n",
      "  _warn_prf(average, modifier, msg_start, len(result))\n"
     ]
    }
   ],
   "source": [
    "# SVM Classification and Confusion matrix\n",
    "from sklearn.metrics import classification_report\n",
    "from sklearn.metrics import confusion_matrix\n",
    "pred1 = svm1.predict(X1_test)\n",
    "print(confusion_matrix(y1_test, pred1))\n",
    "print(classification_report(y1_test, pred1))"
   ]
  },
  {
   "cell_type": "code",
   "execution_count": 244,
   "metadata": {},
   "outputs": [
    {
     "name": "stdout",
     "output_type": "stream",
     "text": [
      "Accuracy of naive_bayes classifier on training set: 0.77\n",
      "Accuracy of naive_bayes classifier on test set: 0.77\n",
      "Time 1.6475096344947816e-08\n"
     ]
    }
   ],
   "source": [
    "from sklearn.naive_bayes import GaussianNB\n",
    "gnb = GaussianNB()\n",
    "y_pred = gnb.fit(X1_train, y1_train).predict(X1_test)\n",
    "print('Accuracy of naive_bayes classifier on training set: {:.2f}'.format(gnb.score(X1_train, y1_train)))\n",
    "print('Accuracy of naive_bayes classifier on test set: {:.2f}'.format(gnb.score(X1_test, y1_test)))\n",
    "elapsed_time = timeit.timeit( number=100)/100\n",
    "print('Time',elapsed_time)"
   ]
  },
  {
   "cell_type": "code",
   "execution_count": 245,
   "metadata": {},
   "outputs": [
    {
     "name": "stdout",
     "output_type": "stream",
     "text": [
      "[[1338  102    0]\n",
      " [ 575 2576  443]\n",
      " [   2   68  110]]\n",
      "              precision    recall  f1-score   support\n",
      "\n",
      "           1       0.70      0.93      0.80      1440\n",
      "           2       0.94      0.72      0.81      3594\n",
      "           3       0.20      0.61      0.30       180\n",
      "\n",
      "    accuracy                           0.77      5214\n",
      "   macro avg       0.61      0.75      0.64      5214\n",
      "weighted avg       0.85      0.77      0.79      5214\n",
      "\n"
     ]
    }
   ],
   "source": [
    "pred1 = gnb.predict(X1_test)\n",
    "print(confusion_matrix(y1_test, pred1))\n",
    "print(classification_report(y1_test, pred1))"
   ]
  },
  {
   "cell_type": "code",
   "execution_count": null,
   "metadata": {},
   "outputs": [],
   "source": []
  },
  {
   "cell_type": "code",
   "execution_count": null,
   "metadata": {},
   "outputs": [],
   "source": []
  },
  {
   "cell_type": "code",
   "execution_count": 246,
   "metadata": {},
   "outputs": [
    {
     "data": {
      "text/plain": [
       "Index(['instant', 'season', 'yr', 'mnth', 'hr', 'holiday', 'weekday',\n",
       "       'workingday', 'weathersit', 'temp', 'atemp', 'hum', 'windspeed',\n",
       "       'casual', 'registered', 'cnt'],\n",
       "      dtype='object')"
      ]
     },
     "execution_count": 246,
     "metadata": {},
     "output_type": "execute_result"
    }
   ],
   "source": [
    "dffs = pd.read_csv(\"hour.csv\")\n",
    "dffs.head()\n",
    "dffs = dffs.drop(columns = [\"dteday\"])\n",
    "dffs.columns"
   ]
  },
  {
   "cell_type": "code",
   "execution_count": 247,
   "metadata": {},
   "outputs": [
    {
     "data": {
      "text/plain": [
       "'0.11.1'"
      ]
     },
     "execution_count": 247,
     "metadata": {},
     "output_type": "execute_result"
    }
   ],
   "source": [
    "import statsmodels.api as sm\n",
    "sm.__version__"
   ]
  },
  {
   "cell_type": "code",
   "execution_count": 248,
   "metadata": {},
   "outputs": [
    {
     "data": {
      "text/html": [
       "<div>\n",
       "<style scoped>\n",
       "    .dataframe tbody tr th:only-of-type {\n",
       "        vertical-align: middle;\n",
       "    }\n",
       "\n",
       "    .dataframe tbody tr th {\n",
       "        vertical-align: top;\n",
       "    }\n",
       "\n",
       "    .dataframe thead th {\n",
       "        text-align: right;\n",
       "    }\n",
       "</style>\n",
       "<table border=\"1\" class=\"dataframe\">\n",
       "  <thead>\n",
       "    <tr style=\"text-align: right;\">\n",
       "      <th></th>\n",
       "      <th>instant</th>\n",
       "      <th>season</th>\n",
       "      <th>yr</th>\n",
       "      <th>mnth</th>\n",
       "      <th>hr</th>\n",
       "      <th>holiday</th>\n",
       "      <th>weekday</th>\n",
       "      <th>workingday</th>\n",
       "      <th>weathersit</th>\n",
       "      <th>temp</th>\n",
       "      <th>atemp</th>\n",
       "      <th>hum</th>\n",
       "      <th>windspeed</th>\n",
       "      <th>casual</th>\n",
       "      <th>registered</th>\n",
       "      <th>cnt</th>\n",
       "    </tr>\n",
       "  </thead>\n",
       "  <tbody>\n",
       "    <tr>\n",
       "      <th>0</th>\n",
       "      <td>1</td>\n",
       "      <td>1</td>\n",
       "      <td>0</td>\n",
       "      <td>1</td>\n",
       "      <td>0</td>\n",
       "      <td>0</td>\n",
       "      <td>6</td>\n",
       "      <td>0</td>\n",
       "      <td>1</td>\n",
       "      <td>0.24</td>\n",
       "      <td>0.2879</td>\n",
       "      <td>0.81</td>\n",
       "      <td>0.0</td>\n",
       "      <td>3</td>\n",
       "      <td>13</td>\n",
       "      <td>16</td>\n",
       "    </tr>\n",
       "    <tr>\n",
       "      <th>1</th>\n",
       "      <td>2</td>\n",
       "      <td>1</td>\n",
       "      <td>0</td>\n",
       "      <td>1</td>\n",
       "      <td>1</td>\n",
       "      <td>0</td>\n",
       "      <td>6</td>\n",
       "      <td>0</td>\n",
       "      <td>1</td>\n",
       "      <td>0.22</td>\n",
       "      <td>0.2727</td>\n",
       "      <td>0.80</td>\n",
       "      <td>0.0</td>\n",
       "      <td>8</td>\n",
       "      <td>32</td>\n",
       "      <td>40</td>\n",
       "    </tr>\n",
       "    <tr>\n",
       "      <th>2</th>\n",
       "      <td>3</td>\n",
       "      <td>1</td>\n",
       "      <td>0</td>\n",
       "      <td>1</td>\n",
       "      <td>2</td>\n",
       "      <td>0</td>\n",
       "      <td>6</td>\n",
       "      <td>0</td>\n",
       "      <td>1</td>\n",
       "      <td>0.22</td>\n",
       "      <td>0.2727</td>\n",
       "      <td>0.80</td>\n",
       "      <td>0.0</td>\n",
       "      <td>5</td>\n",
       "      <td>27</td>\n",
       "      <td>32</td>\n",
       "    </tr>\n",
       "    <tr>\n",
       "      <th>3</th>\n",
       "      <td>4</td>\n",
       "      <td>1</td>\n",
       "      <td>0</td>\n",
       "      <td>1</td>\n",
       "      <td>3</td>\n",
       "      <td>0</td>\n",
       "      <td>6</td>\n",
       "      <td>0</td>\n",
       "      <td>1</td>\n",
       "      <td>0.24</td>\n",
       "      <td>0.2879</td>\n",
       "      <td>0.75</td>\n",
       "      <td>0.0</td>\n",
       "      <td>3</td>\n",
       "      <td>10</td>\n",
       "      <td>13</td>\n",
       "    </tr>\n",
       "    <tr>\n",
       "      <th>4</th>\n",
       "      <td>5</td>\n",
       "      <td>1</td>\n",
       "      <td>0</td>\n",
       "      <td>1</td>\n",
       "      <td>4</td>\n",
       "      <td>0</td>\n",
       "      <td>6</td>\n",
       "      <td>0</td>\n",
       "      <td>1</td>\n",
       "      <td>0.24</td>\n",
       "      <td>0.2879</td>\n",
       "      <td>0.75</td>\n",
       "      <td>0.0</td>\n",
       "      <td>0</td>\n",
       "      <td>1</td>\n",
       "      <td>1</td>\n",
       "    </tr>\n",
       "  </tbody>\n",
       "</table>\n",
       "</div>"
      ],
      "text/plain": [
       "   instant  season  yr  mnth  hr  holiday  weekday  workingday  weathersit  \\\n",
       "0        1       1   0     1   0        0        6           0           1   \n",
       "1        2       1   0     1   1        0        6           0           1   \n",
       "2        3       1   0     1   2        0        6           0           1   \n",
       "3        4       1   0     1   3        0        6           0           1   \n",
       "4        5       1   0     1   4        0        6           0           1   \n",
       "\n",
       "   temp   atemp   hum  windspeed  casual  registered  cnt  \n",
       "0  0.24  0.2879  0.81        0.0       3          13   16  \n",
       "1  0.22  0.2727  0.80        0.0       8          32   40  \n",
       "2  0.22  0.2727  0.80        0.0       5          27   32  \n",
       "3  0.24  0.2879  0.75        0.0       3          10   13  \n",
       "4  0.24  0.2879  0.75        0.0       0           1    1  "
      ]
     },
     "execution_count": 248,
     "metadata": {},
     "output_type": "execute_result"
    }
   ],
   "source": [
    "X = dffs.drop(\"cnt\", 1)       # feature matrix\n",
    "y = dffs['cnt']               # target feature\n",
    "dffs.head()"
   ]
  },
  {
   "cell_type": "code",
   "execution_count": 249,
   "metadata": {},
   "outputs": [],
   "source": [
    "def forward_selection(data, target, significance_level=0.05):\n",
    "    initial_features = data.columns.tolist()\n",
    "    best_features = []\n",
    "    while (len(initial_features)>0):\n",
    "        remaining_features = list(set(initial_features)-set(best_features))\n",
    "        new_pval = pd.Series(index=remaining_features)\n",
    "        for new_column in remaining_features:\n",
    "            model = sm.OLS(target, sm.add_constant(data[best_features+[new_column]])).fit()\n",
    "            new_pval[new_column] = model.pvalues[new_column]\n",
    "        min_p_value = new_pval.min()\n",
    "        if(min_p_value<significance_level):\n",
    "            best_features.append(new_pval.idxmin())\n",
    "        else:\n",
    "            break\n",
    "    return best_features"
   ]
  },
  {
   "cell_type": "code",
   "execution_count": 250,
   "metadata": {},
   "outputs": [
    {
     "name": "stderr",
     "output_type": "stream",
     "text": [
      "/opt/conda/lib/python3.7/site-packages/ipykernel_launcher.py:6: DeprecationWarning: The default dtype for empty Series will be 'object' instead of 'float64' in a future version. Specify a dtype explicitly to silence this warning.\n",
      "  \n"
     ]
    },
    {
     "data": {
      "text/plain": [
       "['hum',\n",
       " 'hr',\n",
       " 'instant',\n",
       " 'atemp',\n",
       " 'casual',\n",
       " 'workingday',\n",
       " 'registered',\n",
       " 'weathersit',\n",
       " 'season',\n",
       " 'mnth',\n",
       " 'temp',\n",
       " 'yr',\n",
       " 'windspeed',\n",
       " 'weekday']"
      ]
     },
     "execution_count": 250,
     "metadata": {},
     "output_type": "execute_result"
    }
   ],
   "source": [
    "forward_selection(X,y)"
   ]
  },
  {
   "cell_type": "code",
   "execution_count": 251,
   "metadata": {},
   "outputs": [],
   "source": [
    "df2 = pd.read_csv(\"hour.csv\")\n",
    "no_riders = tuple(range(0))\n",
    "low = tuple(range(1, 50, 1))\n",
    "med = tuple(range(50, 600, 1))\n",
    "high = tuple(range(600, 1000000, 1))\n",
    "# Defineing peramiters names\n",
    "def filter_riders(platform):\n",
    "    if platform in no_riders:\n",
    "        return '0'\n",
    "    elif platform in low:\n",
    "        return '1'\n",
    "    elif platform in med:\n",
    "        return '2'\n",
    "    else:\n",
    "        return '3'\n",
    "\n",
    "df2['cnt'].apply(filter_riders)\n",
    "df2['riders'] = df2['cnt'].apply(filter_riders)\n",
    "df2 = df2.drop(columns = [\"cnt\"])\n",
    "df2 = df2.drop(columns = [\"dteday\"])\n",
    "df2 = df2[['hum', 'hr', 'instant', 'atemp', 'casual', 'workingday', 'registered', 'weathersit', 'season', 'mnth', 'temp', 'yr', 'windspeed', 'weekday','riders']]\n",
    "# Defining Data into X1,y1\n",
    "X1 = np.array(df2.iloc[:,0:14])\n",
    "y1 = np.array(df2['riders'])\n",
    "\n",
    "from sklearn.model_selection import train_test_split\n",
    "X1_train, X1_test, y1_train, y1_test = train_test_split(X1, y1,test_size= 0.3, random_state =42)"
   ]
  },
  {
   "cell_type": "code",
   "execution_count": 252,
   "metadata": {},
   "outputs": [
    {
     "name": "stdout",
     "output_type": "stream",
     "text": [
      "Accuracy of Decision tree 1 classifier on training set: 1.00\n",
      "Accuracy of Decision tree 1 classifier on test set: 1.00\n",
      "Time 1.4202669262886047e-08\n"
     ]
    }
   ],
   "source": [
    "# Decision Tree Classifier 1\n",
    "from sklearn.tree import DecisionTreeClassifier\n",
    "from sklearn import metrics\n",
    "clf1 = DecisionTreeClassifier().fit(X1_train, y1_train)\n",
    "print('Accuracy of Decision tree 1 classifier on training set: {:.2f}'.format(clf1.score(X1_train, y1_train)))\n",
    "print('Accuracy of Decision tree 1 classifier on test set: {:.2f}' .format(clf1.score(X1_test, y1_test)))\n",
    "elapsed_time = timeit.timeit( number=100)/100\n",
    "print('Time',elapsed_time)"
   ]
  },
  {
   "cell_type": "code",
   "execution_count": 253,
   "metadata": {},
   "outputs": [
    {
     "name": "stdout",
     "output_type": "stream",
     "text": [
      "[[1438    2    0]\n",
      " [   7 3582    5]\n",
      " [   0    3  177]]\n",
      "              precision    recall  f1-score   support\n",
      "\n",
      "           1       1.00      1.00      1.00      1440\n",
      "           2       1.00      1.00      1.00      3594\n",
      "           3       0.97      0.98      0.98       180\n",
      "\n",
      "    accuracy                           1.00      5214\n",
      "   macro avg       0.99      0.99      0.99      5214\n",
      "weighted avg       1.00      1.00      1.00      5214\n",
      "\n"
     ]
    }
   ],
   "source": [
    "# Decision Tree Classification and Confusion matrix\n",
    "from sklearn.metrics import classification_report\n",
    "from sklearn.metrics import confusion_matrix\n",
    "pred1 = clf1.predict(X1_test)\n",
    "print(confusion_matrix(y1_test, pred1))\n",
    "print(classification_report(y1_test, pred1))"
   ]
  },
  {
   "cell_type": "code",
   "execution_count": 254,
   "metadata": {},
   "outputs": [
    {
     "name": "stdout",
     "output_type": "stream",
     "text": [
      "Accuracy of K-NN 1 classifier on training set: 0.98\n",
      "Accuracy of K-NN 1 classifier on test set: 0.96\n",
      "Time 1.4202669262886047e-08\n"
     ]
    }
   ],
   "source": [
    "# KNN 1\n",
    "# Takes a long time\n",
    "from sklearn.neighbors import KNeighborsClassifier\n",
    "from sklearn.metrics import accuracy_score\n",
    "knn1 = KNeighborsClassifier()\n",
    "knn1.fit(X1_train, y1_train)\n",
    "print('Accuracy of K-NN 1 classifier on training set: {:.2f}'.format(knn1.score(X1_train,y1_train)))\n",
    "print('Accuracy of K-NN 1 classifier on test set: {:.2f}'.format(knn1.score(X1_test,y1_test)))\n",
    "elapsed_time = timeit.timeit( number=100)/100\n",
    "print('Time',elapsed_time)"
   ]
  },
  {
   "cell_type": "code",
   "execution_count": 255,
   "metadata": {},
   "outputs": [
    {
     "name": "stdout",
     "output_type": "stream",
     "text": [
      "[[1404   36    0]\n",
      " [ 104 3469   21]\n",
      " [   0   28  152]]\n",
      "              precision    recall  f1-score   support\n",
      "\n",
      "           1       0.93      0.97      0.95      1440\n",
      "           2       0.98      0.97      0.97      3594\n",
      "           3       0.88      0.84      0.86       180\n",
      "\n",
      "    accuracy                           0.96      5214\n",
      "   macro avg       0.93      0.93      0.93      5214\n",
      "weighted avg       0.96      0.96      0.96      5214\n",
      "\n"
     ]
    }
   ],
   "source": [
    "# KNN Classification and Confusion matrix\n",
    "from sklearn.metrics import classification_report\n",
    "from sklearn.metrics import confusion_matrix\n",
    "pred1 = knn1.predict(X1_test)\n",
    "print(confusion_matrix(y1_test, pred1))\n",
    "print(classification_report(y1_test, pred1))"
   ]
  },
  {
   "cell_type": "code",
   "execution_count": 256,
   "metadata": {},
   "outputs": [
    {
     "name": "stdout",
     "output_type": "stream",
     "text": [
      "Accuracy of SVM 1 classifier on training set: 0.68\n",
      "Accuracy of SVM 1 classifier on test set: 0.69\n",
      "Time 1.535750925540924e-08\n"
     ]
    }
   ],
   "source": [
    "from sklearn.svm import SVC\n",
    "svm1= SVC(gamma= 'scale')\n",
    "svm1.fit(X1_train, y1_train)\n",
    "print('Accuracy of SVM 1 classifier on training set: {:.2f}'.format(svm1.score(X1_train, y1_train)))\n",
    "print('Accuracy of SVM 1 classifier on test set: {:.2f}'.format(svm1.score(X1_test, y1_test)))\n",
    "elapsed_time = timeit.timeit( number=100)/100\n",
    "print('Time',elapsed_time)"
   ]
  },
  {
   "cell_type": "code",
   "execution_count": 257,
   "metadata": {},
   "outputs": [
    {
     "name": "stdout",
     "output_type": "stream",
     "text": [
      "[[   0 1440    0]\n",
      " [   0 3594    0]\n",
      " [   0  180    0]]\n",
      "              precision    recall  f1-score   support\n",
      "\n",
      "           1       0.00      0.00      0.00      1440\n",
      "           2       0.69      1.00      0.82      3594\n",
      "           3       0.00      0.00      0.00       180\n",
      "\n",
      "    accuracy                           0.69      5214\n",
      "   macro avg       0.23      0.33      0.27      5214\n",
      "weighted avg       0.48      0.69      0.56      5214\n",
      "\n"
     ]
    },
    {
     "name": "stderr",
     "output_type": "stream",
     "text": [
      "/opt/conda/lib/python3.7/site-packages/sklearn/metrics/_classification.py:1272: UndefinedMetricWarning: Precision and F-score are ill-defined and being set to 0.0 in labels with no predicted samples. Use `zero_division` parameter to control this behavior.\n",
      "  _warn_prf(average, modifier, msg_start, len(result))\n"
     ]
    }
   ],
   "source": [
    "# SVM Classification and Confusion matrix\n",
    "from sklearn.metrics import classification_report\n",
    "from sklearn.metrics import confusion_matrix\n",
    "pred1 = svm1.predict(X1_test)\n",
    "print(confusion_matrix(y1_test, pred1))\n",
    "print(classification_report(y1_test, pred1))"
   ]
  },
  {
   "cell_type": "code",
   "execution_count": 258,
   "metadata": {},
   "outputs": [
    {
     "name": "stdout",
     "output_type": "stream",
     "text": [
      "Accuracy of naive_bayes classifier on training set: 0.94\n",
      "Accuracy of naive_bayes classifier on test set: 0.94\n",
      "Time 1.4957040548324584e-08\n"
     ]
    }
   ],
   "source": [
    "from sklearn.naive_bayes import GaussianNB\n",
    "gnb = GaussianNB()\n",
    "y_pred = gnb.fit(X1_train, y1_train).predict(X1_test)\n",
    "print('Accuracy of naive_bayes classifier on training set: {:.2f}'.format(gnb.score(X1_train, y1_train)))\n",
    "print('Accuracy of naive_bayes classifier on test set: {:.2f}'.format(gnb.score(X1_test, y1_test)))\n",
    "elapsed_time = timeit.timeit( number=100)/100\n",
    "print('Time',elapsed_time)"
   ]
  },
  {
   "cell_type": "code",
   "execution_count": 259,
   "metadata": {},
   "outputs": [
    {
     "name": "stdout",
     "output_type": "stream",
     "text": [
      "[[1408   32    0]\n",
      " [  99 3293  202]\n",
      " [   0    5  175]]\n",
      "              precision    recall  f1-score   support\n",
      "\n",
      "           1       0.93      0.98      0.96      1440\n",
      "           2       0.99      0.92      0.95      3594\n",
      "           3       0.46      0.97      0.63       180\n",
      "\n",
      "    accuracy                           0.94      5214\n",
      "   macro avg       0.80      0.96      0.85      5214\n",
      "weighted avg       0.96      0.94      0.94      5214\n",
      "\n"
     ]
    }
   ],
   "source": [
    "pred1 = gnb.predict(X1_test)\n",
    "print(confusion_matrix(y1_test, pred1))\n",
    "print(classification_report(y1_test, pred1))"
   ]
  },
  {
   "cell_type": "code",
   "execution_count": null,
   "metadata": {},
   "outputs": [],
   "source": []
  },
  {
   "cell_type": "code",
   "execution_count": null,
   "metadata": {},
   "outputs": [],
   "source": []
  },
  {
   "cell_type": "code",
   "execution_count": null,
   "metadata": {},
   "outputs": [],
   "source": []
  },
  {
   "cell_type": "code",
   "execution_count": 260,
   "metadata": {},
   "outputs": [],
   "source": [
    "from mlxtend.feature_selection import SequentialFeatureSelector as SFS\n",
    "from sklearn.linear_model import LinearRegression\n",
    "# Sequential Forward Selection(sfs)\n",
    "sfs = SFS(LinearRegression(),\n",
    "          k_features=11,\n",
    "          forward=True,\n",
    "          floating=False,\n",
    "          scoring = 'r2',\n",
    "          cv = 0)"
   ]
  },
  {
   "cell_type": "code",
   "execution_count": 261,
   "metadata": {},
   "outputs": [
    {
     "data": {
      "text/plain": [
       "('instant',\n",
       " 'season',\n",
       " 'yr',\n",
       " 'mnth',\n",
       " 'hr',\n",
       " 'holiday',\n",
       " 'weekday',\n",
       " 'workingday',\n",
       " 'weathersit',\n",
       " 'casual',\n",
       " 'registered')"
      ]
     },
     "execution_count": 261,
     "metadata": {},
     "output_type": "execute_result"
    }
   ],
   "source": [
    "sfs.fit(X, y)\n",
    "sfs.k_feature_names_     # to get the final set of features"
   ]
  },
  {
   "cell_type": "code",
   "execution_count": 262,
   "metadata": {},
   "outputs": [],
   "source": [
    "df3 = pd.read_csv(\"hour.csv\")\n",
    "no_riders = tuple(range(0))\n",
    "low = tuple(range(1, 50, 1))\n",
    "med = tuple(range(50, 600, 1))\n",
    "high = tuple(range(600, 1000000, 1))\n",
    "# Defineing peramiters names\n",
    "def filter_riders(platform):\n",
    "    if platform in no_riders:\n",
    "        return '0'\n",
    "    elif platform in low:\n",
    "        return '1'\n",
    "    elif platform in med:\n",
    "        return '2'\n",
    "    else:\n",
    "        return '3'\n",
    "\n",
    "df3['cnt'].apply(filter_riders)\n",
    "df3['riders'] = df3['cnt'].apply(filter_riders)\n",
    "df3 = df3.drop(columns = [\"cnt\"])\n",
    "df3 = df3.drop(columns = [\"dteday\"])\n",
    "df3 = df3[['instant', 'season', 'yr', 'mnth', 'hr', 'holiday', 'weekday', 'workingday', 'weathersit', 'casual', 'registered','riders']]\n",
    "# Defining Data into X1,y1\n",
    "X1 = np.array(df3.iloc[:,0:14])\n",
    "y1 = np.array(df3['riders'])\n",
    "\n",
    "from sklearn.model_selection import train_test_split\n",
    "X1_train, X1_test, y1_train, y1_test = train_test_split(X1, y1,test_size= 0.3, random_state =42)"
   ]
  },
  {
   "cell_type": "code",
   "execution_count": 263,
   "metadata": {},
   "outputs": [
    {
     "name": "stdout",
     "output_type": "stream",
     "text": [
      "Accuracy of Decision tree 1 classifier on training set: 1.00\n",
      "Accuracy of Decision tree 1 classifier on test set: 1.00\n",
      "Time 1.5329569578170777e-08\n"
     ]
    }
   ],
   "source": [
    "# Decision Tree Classifier 1\n",
    "from sklearn.tree import DecisionTreeClassifier\n",
    "from sklearn import metrics\n",
    "clf1 = DecisionTreeClassifier().fit(X1_train, y1_train)\n",
    "print('Accuracy of Decision tree 1 classifier on training set: {:.2f}'.format(clf1.score(X1_train, y1_train)))\n",
    "print('Accuracy of Decision tree 1 classifier on test set: {:.2f}' .format(clf1.score(X1_test, y1_test)))\n",
    "elapsed_time = timeit.timeit( number=100)/100\n",
    "print('Time',elapsed_time)"
   ]
  },
  {
   "cell_type": "code",
   "execution_count": 264,
   "metadata": {},
   "outputs": [
    {
     "name": "stdout",
     "output_type": "stream",
     "text": [
      "[[1440    0    0]\n",
      " [   0 3594    0]\n",
      " [   0    0  180]]\n",
      "              precision    recall  f1-score   support\n",
      "\n",
      "           1       1.00      1.00      1.00      1440\n",
      "           2       1.00      1.00      1.00      3594\n",
      "           3       1.00      1.00      1.00       180\n",
      "\n",
      "    accuracy                           1.00      5214\n",
      "   macro avg       1.00      1.00      1.00      5214\n",
      "weighted avg       1.00      1.00      1.00      5214\n",
      "\n"
     ]
    }
   ],
   "source": [
    "# Decision Tree Classification and Confusion matrix\n",
    "from sklearn.metrics import classification_report\n",
    "from sklearn.metrics import confusion_matrix\n",
    "pred1 = clf1.predict(X1_test)\n",
    "print(confusion_matrix(y1_test, pred1))\n",
    "print(classification_report(y1_test, pred1))"
   ]
  },
  {
   "cell_type": "code",
   "execution_count": 265,
   "metadata": {},
   "outputs": [
    {
     "name": "stdout",
     "output_type": "stream",
     "text": [
      "Accuracy of K-NN 1 classifier on training set: 0.98\n",
      "Accuracy of K-NN 1 classifier on test set: 0.96\n",
      "Time 1.5748664736747742e-08\n"
     ]
    }
   ],
   "source": [
    "# KNN 1\n",
    "# Takes a long time\n",
    "from sklearn.neighbors import KNeighborsClassifier\n",
    "from sklearn.metrics import accuracy_score\n",
    "knn1 = KNeighborsClassifier()\n",
    "knn1.fit(X1_train, y1_train)\n",
    "print('Accuracy of K-NN 1 classifier on training set: {:.2f}'.format(knn1.score(X1_train,y1_train)))\n",
    "print('Accuracy of K-NN 1 classifier on test set: {:.2f}'.format(knn1.score(X1_test,y1_test)))\n",
    "elapsed_time = timeit.timeit( number=100)/100\n",
    "print('Time',elapsed_time)"
   ]
  },
  {
   "cell_type": "code",
   "execution_count": 266,
   "metadata": {},
   "outputs": [
    {
     "name": "stdout",
     "output_type": "stream",
     "text": [
      "[[1405   35    0]\n",
      " [ 104 3469   21]\n",
      " [   0   28  152]]\n",
      "              precision    recall  f1-score   support\n",
      "\n",
      "           1       0.93      0.98      0.95      1440\n",
      "           2       0.98      0.97      0.97      3594\n",
      "           3       0.88      0.84      0.86       180\n",
      "\n",
      "    accuracy                           0.96      5214\n",
      "   macro avg       0.93      0.93      0.93      5214\n",
      "weighted avg       0.96      0.96      0.96      5214\n",
      "\n"
     ]
    }
   ],
   "source": [
    "# KNN Classification and Confusion matrix\n",
    "from sklearn.metrics import classification_report\n",
    "from sklearn.metrics import confusion_matrix\n",
    "pred1 = knn1.predict(X1_test)\n",
    "print(confusion_matrix(y1_test, pred1))\n",
    "print(classification_report(y1_test, pred1))"
   ]
  },
  {
   "cell_type": "code",
   "execution_count": 267,
   "metadata": {},
   "outputs": [
    {
     "name": "stdout",
     "output_type": "stream",
     "text": [
      "Accuracy of SVM 1 classifier on training set: 0.68\n",
      "Accuracy of SVM 1 classifier on test set: 0.69\n",
      "Time 2.376735210418701e-08\n"
     ]
    }
   ],
   "source": [
    "from sklearn.svm import SVC\n",
    "svm1= SVC(gamma= 'scale')\n",
    "svm1.fit(X1_train, y1_train)\n",
    "print('Accuracy of SVM 1 classifier on training set: {:.2f}'.format(svm1.score(X1_train, y1_train)))\n",
    "print('Accuracy of SVM 1 classifier on test set: {:.2f}'.format(svm1.score(X1_test, y1_test)))\n",
    "elapsed_time = timeit.timeit( number=100)/100\n",
    "print('Time',elapsed_time)"
   ]
  },
  {
   "cell_type": "code",
   "execution_count": 268,
   "metadata": {},
   "outputs": [
    {
     "name": "stdout",
     "output_type": "stream",
     "text": [
      "[[   0 1440    0]\n",
      " [   0 3594    0]\n",
      " [   0  180    0]]\n",
      "              precision    recall  f1-score   support\n",
      "\n",
      "           1       0.00      0.00      0.00      1440\n",
      "           2       0.69      1.00      0.82      3594\n",
      "           3       0.00      0.00      0.00       180\n",
      "\n",
      "    accuracy                           0.69      5214\n",
      "   macro avg       0.23      0.33      0.27      5214\n",
      "weighted avg       0.48      0.69      0.56      5214\n",
      "\n"
     ]
    },
    {
     "name": "stderr",
     "output_type": "stream",
     "text": [
      "/opt/conda/lib/python3.7/site-packages/sklearn/metrics/_classification.py:1272: UndefinedMetricWarning: Precision and F-score are ill-defined and being set to 0.0 in labels with no predicted samples. Use `zero_division` parameter to control this behavior.\n",
      "  _warn_prf(average, modifier, msg_start, len(result))\n"
     ]
    }
   ],
   "source": [
    "# SVM Classification and Confusion matrix\n",
    "from sklearn.metrics import classification_report\n",
    "from sklearn.metrics import confusion_matrix\n",
    "pred1 = svm1.predict(X1_test)\n",
    "print(confusion_matrix(y1_test, pred1))\n",
    "print(classification_report(y1_test, pred1))"
   ]
  },
  {
   "cell_type": "code",
   "execution_count": 269,
   "metadata": {},
   "outputs": [
    {
     "name": "stdout",
     "output_type": "stream",
     "text": [
      "Accuracy of naive_bayes classifier on training set: 1.00\n",
      "Accuracy of naive_bayes classifier on test set: 1.00\n",
      "Time 1.4491379261016846e-08\n"
     ]
    }
   ],
   "source": [
    "from sklearn.naive_bayes import GaussianNB\n",
    "gnb = GaussianNB()\n",
    "y_pred = gnb.fit(X1_train, y1_train).predict(X1_test)\n",
    "print('Accuracy of naive_bayes classifier on training set: {:.2f}'.format(gnb.score(X1_train, y1_train)))\n",
    "print('Accuracy of naive_bayes classifier on test set: {:.2f}'.format(gnb.score(X1_test, y1_test)))\n",
    "elapsed_time = timeit.timeit( number=100)/100\n",
    "print('Time',elapsed_time)"
   ]
  },
  {
   "cell_type": "code",
   "execution_count": 270,
   "metadata": {},
   "outputs": [
    {
     "name": "stdout",
     "output_type": "stream",
     "text": [
      "[[1440    0    0]\n",
      " [   0 3594    0]\n",
      " [   0    0  180]]\n",
      "              precision    recall  f1-score   support\n",
      "\n",
      "           1       1.00      1.00      1.00      1440\n",
      "           2       1.00      1.00      1.00      3594\n",
      "           3       1.00      1.00      1.00       180\n",
      "\n",
      "    accuracy                           1.00      5214\n",
      "   macro avg       1.00      1.00      1.00      5214\n",
      "weighted avg       1.00      1.00      1.00      5214\n",
      "\n"
     ]
    }
   ],
   "source": [
    "pred1 = gnb.predict(X1_test)\n",
    "print(confusion_matrix(y1_test, pred1))\n",
    "print(classification_report(y1_test, pred1))"
   ]
  },
  {
   "cell_type": "code",
   "execution_count": null,
   "metadata": {},
   "outputs": [],
   "source": []
  },
  {
   "cell_type": "code",
   "execution_count": 271,
   "metadata": {},
   "outputs": [],
   "source": [
    "def backward_elimination(data, target,significance_level = 0.05):\n",
    "    features = data.columns.tolist()\n",
    "    while(len(features)>0):\n",
    "        features_with_constant = sm.add_constant(data[features])\n",
    "        p_values = sm.OLS(target, features_with_constant).fit().pvalues[1:]\n",
    "        max_p_value = p_values.max()\n",
    "        if(max_p_value >= significance_level):\n",
    "            excluded_feature = p_values.idxmax()\n",
    "            features.remove(excluded_feature)\n",
    "        else:\n",
    "            break \n",
    "    return features"
   ]
  },
  {
   "cell_type": "code",
   "execution_count": 272,
   "metadata": {},
   "outputs": [
    {
     "data": {
      "text/plain": [
       "('instant',\n",
       " 'season',\n",
       " 'yr',\n",
       " 'mnth',\n",
       " 'hr',\n",
       " 'holiday',\n",
       " 'weekday',\n",
       " 'workingday',\n",
       " 'weathersit',\n",
       " 'casual',\n",
       " 'registered')"
      ]
     },
     "execution_count": 272,
     "metadata": {},
     "output_type": "execute_result"
    }
   ],
   "source": [
    "#Sequential backward selection(sbs)\n",
    "#ends up being the same as sequential forward selection\n",
    "sbs = SFS(LinearRegression(),\n",
    "         k_features=11,\n",
    "         forward=False,\n",
    "         floating=False,\n",
    "         cv=0)\n",
    "sbs.fit(X, y)\n",
    "sbs.k_feature_names_"
   ]
  },
  {
   "cell_type": "code",
   "execution_count": 273,
   "metadata": {},
   "outputs": [
    {
     "name": "stdout",
     "output_type": "stream",
     "text": [
      "hum          -0.322911\n",
      "weathersit   -0.142426\n",
      "holiday      -0.030927\n",
      "weekday       0.026900\n",
      "workingday    0.030284\n",
      "windspeed     0.093234\n",
      "mnth          0.120638\n",
      "season        0.178056\n",
      "yr            0.250495\n",
      "instant       0.278379\n",
      "hr            0.394071\n",
      "atemp         0.400929\n",
      "temp          0.404772\n",
      "casual        0.694564\n",
      "registered    0.972151\n",
      "dtype: float64\n"
     ]
    }
   ],
   "source": [
    "importances = dffs.drop(\"cnt\", axis=1).apply(lambda x: x.corr(dffs.cnt))\n",
    "indices = np.argsort(importances)\n",
    "print(importances[indices])"
   ]
  },
  {
   "cell_type": "code",
   "execution_count": 274,
   "metadata": {},
   "outputs": [
    {
     "data": {
      "image/png": "[encoded data removed]",
      "text/plain": [
       "<Figure size 432x288 with 1 Axes>"
      ]
     },
     "metadata": {},
     "output_type": "display_data"
    }
   ],
   "source": [
    "names=['instant', 'season', 'yr', 'mnth', 'hr', 'holiday', 'weekday',\n",
    "       'workingday', 'weathersit', 'temp', 'atemp', 'hum', 'windspeed',\n",
    "       'casual', 'registered']\n",
    "plt.title('Riders')\n",
    "plt.barh(range(len(indices)), importances[indices], color='g', align='center')\n",
    "plt.yticks(range(len(indices)), [names[i] for i in indices])\n",
    "plt.xlabel('Relative Importance')\n",
    "plt.show()"
   ]
  },
  {
   "cell_type": "code",
   "execution_count": 275,
   "metadata": {},
   "outputs": [
    {
     "name": "stdout",
     "output_type": "stream",
     "text": [
      "instant\n",
      "yr\n",
      "hr\n",
      "temp\n",
      "atemp\n",
      "hum\n",
      "casual\n",
      "registered\n"
     ]
    }
   ],
   "source": [
    "for i in range(0, len(indices)):\n",
    "    if np.abs(importances[i])>0.2:\n",
    "        print(names[i])"
   ]
  },
  {
   "cell_type": "code",
   "execution_count": null,
   "metadata": {},
   "outputs": [],
   "source": []
  },
  {
   "cell_type": "code",
   "execution_count": 276,
   "metadata": {},
   "outputs": [],
   "source": [
    "df4 = pd.read_csv(\"hour.csv\")\n",
    "no_riders = tuple(range(0))\n",
    "low = tuple(range(1, 50, 1))\n",
    "med = tuple(range(50, 600, 1))\n",
    "high = tuple(range(600, 1000000, 1))\n",
    "# Defineing peramiters names\n",
    "def filter_riders(platform):\n",
    "    if platform in no_riders:\n",
    "        return '0'\n",
    "    elif platform in low:\n",
    "        return '1'\n",
    "    elif platform in med:\n",
    "        return '2'\n",
    "    else:\n",
    "        return '3'\n",
    "\n",
    "df4['cnt'].apply(filter_riders)\n",
    "df4['riders'] = df4['cnt'].apply(filter_riders)\n",
    "df4 = df4.drop(columns = [\"cnt\"])\n",
    "df4 = df4.drop(columns = [\"dteday\"])\n",
    "df4 = df4[['instant','yr','hr','temp','atemp','hum','casual','registered','riders']]\n",
    "# Defining Data into X1,y1\n",
    "X1 = np.array(df4.iloc[:,0:14])\n",
    "y1 = np.array(df4['riders'])\n",
    "\n",
    "from sklearn.model_selection import train_test_split\n",
    "X1_train, X1_test, y1_train, y1_test = train_test_split(X1, y1,test_size= 0.3, random_state =42)"
   ]
  },
  {
   "cell_type": "code",
   "execution_count": 277,
   "metadata": {},
   "outputs": [
    {
     "name": "stdout",
     "output_type": "stream",
     "text": [
      "Accuracy of Decision tree 1 classifier on training set: 1.00\n",
      "Accuracy of Decision tree 1 classifier on test set: 1.00\n",
      "Time 1.4659017324447632e-08\n"
     ]
    }
   ],
   "source": [
    "# Decision Tree Classifier 1\n",
    "from sklearn.tree import DecisionTreeClassifier\n",
    "from sklearn import metrics\n",
    "clf1 = DecisionTreeClassifier().fit(X1_train, y1_train)\n",
    "print('Accuracy of Decision tree 1 classifier on training set: {:.2f}'.format(clf1.score(X1_train, y1_train)))\n",
    "print('Accuracy of Decision tree 1 classifier on test set: {:.2f}' .format(clf1.score(X1_test, y1_test)))\n",
    "elapsed_time = timeit.timeit( number=100)/100\n",
    "print('Time',elapsed_time)"
   ]
  },
  {
   "cell_type": "code",
   "execution_count": 278,
   "metadata": {},
   "outputs": [
    {
     "name": "stdout",
     "output_type": "stream",
     "text": [
      "[[1440    0    0]\n",
      " [   0 3594    0]\n",
      " [   0    0  180]]\n",
      "              precision    recall  f1-score   support\n",
      "\n",
      "           1       1.00      1.00      1.00      1440\n",
      "           2       1.00      1.00      1.00      3594\n",
      "           3       1.00      1.00      1.00       180\n",
      "\n",
      "    accuracy                           1.00      5214\n",
      "   macro avg       1.00      1.00      1.00      5214\n",
      "weighted avg       1.00      1.00      1.00      5214\n",
      "\n"
     ]
    }
   ],
   "source": [
    "# Decision Tree Classification and Confusion matrix\n",
    "from sklearn.metrics import classification_report\n",
    "from sklearn.metrics import confusion_matrix\n",
    "pred1 = clf1.predict(X1_test)\n",
    "print(confusion_matrix(y1_test, pred1))\n",
    "print(classification_report(y1_test, pred1))"
   ]
  },
  {
   "cell_type": "code",
   "execution_count": 279,
   "metadata": {},
   "outputs": [
    {
     "name": "stdout",
     "output_type": "stream",
     "text": [
      "Accuracy of K-NN 1 classifier on training set: 0.98\n",
      "Accuracy of K-NN 1 classifier on test set: 0.96\n",
      "Time 1.6866251826286315e-08\n"
     ]
    }
   ],
   "source": [
    "# KNN 1\n",
    "# Takes a long time\n",
    "from sklearn.neighbors import KNeighborsClassifier\n",
    "from sklearn.metrics import accuracy_score\n",
    "knn1 = KNeighborsClassifier()\n",
    "knn1.fit(X1_train, y1_train)\n",
    "print('Accuracy of K-NN 1 classifier on training set: {:.2f}'.format(knn1.score(X1_train,y1_train)))\n",
    "print('Accuracy of K-NN 1 classifier on test set: {:.2f}'.format(knn1.score(X1_test,y1_test)))\n",
    "elapsed_time = timeit.timeit( number=100)/100\n",
    "print('Time',elapsed_time)"
   ]
  },
  {
   "cell_type": "code",
   "execution_count": 280,
   "metadata": {},
   "outputs": [
    {
     "name": "stdout",
     "output_type": "stream",
     "text": [
      "[[1406   34    0]\n",
      " [ 104 3469   21]\n",
      " [   0   28  152]]\n",
      "              precision    recall  f1-score   support\n",
      "\n",
      "           1       0.93      0.98      0.95      1440\n",
      "           2       0.98      0.97      0.97      3594\n",
      "           3       0.88      0.84      0.86       180\n",
      "\n",
      "    accuracy                           0.96      5214\n",
      "   macro avg       0.93      0.93      0.93      5214\n",
      "weighted avg       0.96      0.96      0.96      5214\n",
      "\n"
     ]
    }
   ],
   "source": [
    "# KNN Classification and Confusion matrix\n",
    "from sklearn.metrics import classification_report\n",
    "from sklearn.metrics import confusion_matrix\n",
    "pred1 = knn1.predict(X1_test)\n",
    "print(confusion_matrix(y1_test, pred1))\n",
    "print(classification_report(y1_test, pred1))"
   ]
  },
  {
   "cell_type": "code",
   "execution_count": 281,
   "metadata": {},
   "outputs": [
    {
     "name": "stdout",
     "output_type": "stream",
     "text": [
      "Accuracy of SVM 1 classifier on training set: 0.68\n",
      "Accuracy of SVM 1 classifier on test set: 0.69\n",
      "Time 1.4798715710639954e-08\n"
     ]
    }
   ],
   "source": [
    "from sklearn.svm import SVC\n",
    "svm1= SVC(gamma= 'scale')\n",
    "svm1.fit(X1_train, y1_train)\n",
    "print('Accuracy of SVM 1 classifier on training set: {:.2f}'.format(svm1.score(X1_train, y1_train)))\n",
    "print('Accuracy of SVM 1 classifier on test set: {:.2f}'.format(svm1.score(X1_test, y1_test)))\n",
    "elapsed_time = timeit.timeit( number=100)/100\n",
    "print('Time',elapsed_time)"
   ]
  },
  {
   "cell_type": "code",
   "execution_count": 282,
   "metadata": {},
   "outputs": [
    {
     "name": "stdout",
     "output_type": "stream",
     "text": [
      "[[   0 1440    0]\n",
      " [   0 3594    0]\n",
      " [   0  180    0]]\n",
      "              precision    recall  f1-score   support\n",
      "\n",
      "           1       0.00      0.00      0.00      1440\n",
      "           2       0.69      1.00      0.82      3594\n",
      "           3       0.00      0.00      0.00       180\n",
      "\n",
      "    accuracy                           0.69      5214\n",
      "   macro avg       0.23      0.33      0.27      5214\n",
      "weighted avg       0.48      0.69      0.56      5214\n",
      "\n"
     ]
    },
    {
     "name": "stderr",
     "output_type": "stream",
     "text": [
      "/opt/conda/lib/python3.7/site-packages/sklearn/metrics/_classification.py:1272: UndefinedMetricWarning: Precision and F-score are ill-defined and being set to 0.0 in labels with no predicted samples. Use `zero_division` parameter to control this behavior.\n",
      "  _warn_prf(average, modifier, msg_start, len(result))\n"
     ]
    }
   ],
   "source": [
    "# SVM Classification and Confusion matrix\n",
    "from sklearn.metrics import classification_report\n",
    "from sklearn.metrics import confusion_matrix\n",
    "pred1 = svm1.predict(X1_test)\n",
    "print(confusion_matrix(y1_test, pred1))\n",
    "print(classification_report(y1_test, pred1))"
   ]
  },
  {
   "cell_type": "code",
   "execution_count": 283,
   "metadata": {},
   "outputs": [
    {
     "name": "stdout",
     "output_type": "stream",
     "text": [
      "Accuracy of naive_bayes classifier on training set: 1.00\n",
      "Accuracy of naive_bayes classifier on test set: 1.00\n",
      "Time 1.4919787645339965e-08\n"
     ]
    }
   ],
   "source": [
    "from sklearn.naive_bayes import GaussianNB\n",
    "gnb = GaussianNB()\n",
    "y_pred = gnb.fit(X1_train, y1_train).predict(X1_test)\n",
    "print('Accuracy of naive_bayes classifier on training set: {:.2f}'.format(gnb.score(X1_train, y1_train)))\n",
    "print('Accuracy of naive_bayes classifier on test set: {:.2f}'.format(gnb.score(X1_test, y1_test)))\n",
    "elapsed_time = timeit.timeit( number=100)/100\n",
    "print('Time',elapsed_time)"
   ]
  },
  {
   "cell_type": "code",
   "execution_count": 284,
   "metadata": {},
   "outputs": [
    {
     "name": "stdout",
     "output_type": "stream",
     "text": [
      "[[1440    0    0]\n",
      " [   0 3594    0]\n",
      " [   0    0  180]]\n",
      "              precision    recall  f1-score   support\n",
      "\n",
      "           1       1.00      1.00      1.00      1440\n",
      "           2       1.00      1.00      1.00      3594\n",
      "           3       1.00      1.00      1.00       180\n",
      "\n",
      "    accuracy                           1.00      5214\n",
      "   macro avg       1.00      1.00      1.00      5214\n",
      "weighted avg       1.00      1.00      1.00      5214\n",
      "\n"
     ]
    }
   ],
   "source": [
    "pred1 = gnb.predict(X1_test)\n",
    "print(confusion_matrix(y1_test, pred1))\n",
    "print(classification_report(y1_test, pred1))"
   ]
  }
 ],
 "metadata": {
  "kernelspec": {
   "display_name": "Python 3",
   "language": "python",
   "name": "python3"
  },
  "language_info": {
   "codemirror_mode": {
    "name": "ipython",
    "version": 3
   },
   "file_extension": ".py",
   "mimetype": "text/x-python",
   "name": "python",
   "nbconvert_exporter": "python",
   "pygments_lexer": "ipython3",
   "version": "3.7.6"
  }
 },
 "nbformat": 4,
 "nbformat_minor": 4
}
