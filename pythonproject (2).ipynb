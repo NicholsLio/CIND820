{
 "cells": [
  {
   "cell_type": "code",
   "execution_count": 1,
   "metadata": {},
   "outputs": [],
   "source": [
    "import pandas as pd\n",
    "import numpy as np \n",
    "import seaborn as sns\n",
    "import matplotlib.pyplot as plt\n",
    "import timeit"
   ]
  },
  {
   "cell_type": "code",
   "execution_count": 2,
   "metadata": {},
   "outputs": [
    {
     "data": {
      "text/html": [
       "<div>\n",
       "<style scoped>\n",
       "    .dataframe tbody tr th:only-of-type {\n",
       "        vertical-align: middle;\n",
       "    }\n",
       "\n",
       "    .dataframe tbody tr th {\n",
       "        vertical-align: top;\n",
       "    }\n",
       "\n",
       "    .dataframe thead th {\n",
       "        text-align: right;\n",
       "    }\n",
       "</style>\n",
       "<table border=\"1\" class=\"dataframe\">\n",
       "  <thead>\n",
       "    <tr style=\"text-align: right;\">\n",
       "      <th></th>\n",
       "      <th>instant</th>\n",
       "      <th>dteday</th>\n",
       "      <th>season</th>\n",
       "      <th>yr</th>\n",
       "      <th>mnth</th>\n",
       "      <th>hr</th>\n",
       "      <th>holiday</th>\n",
       "      <th>weekday</th>\n",
       "      <th>workingday</th>\n",
       "      <th>weathersit</th>\n",
       "      <th>temp</th>\n",
       "      <th>atemp</th>\n",
       "      <th>hum</th>\n",
       "      <th>windspeed</th>\n",
       "      <th>casual</th>\n",
       "      <th>registered</th>\n",
       "      <th>cnt</th>\n",
       "    </tr>\n",
       "  </thead>\n",
       "  <tbody>\n",
       "    <tr>\n",
       "      <th>0</th>\n",
       "      <td>1</td>\n",
       "      <td>2011-01-01</td>\n",
       "      <td>1</td>\n",
       "      <td>0</td>\n",
       "      <td>1</td>\n",
       "      <td>0</td>\n",
       "      <td>0</td>\n",
       "      <td>6</td>\n",
       "      <td>0</td>\n",
       "      <td>1</td>\n",
       "      <td>0.24</td>\n",
       "      <td>0.2879</td>\n",
       "      <td>0.81</td>\n",
       "      <td>0.0</td>\n",
       "      <td>3</td>\n",
       "      <td>13</td>\n",
       "      <td>16</td>\n",
       "    </tr>\n",
       "    <tr>\n",
       "      <th>1</th>\n",
       "      <td>2</td>\n",
       "      <td>2011-01-01</td>\n",
       "      <td>1</td>\n",
       "      <td>0</td>\n",
       "      <td>1</td>\n",
       "      <td>1</td>\n",
       "      <td>0</td>\n",
       "      <td>6</td>\n",
       "      <td>0</td>\n",
       "      <td>1</td>\n",
       "      <td>0.22</td>\n",
       "      <td>0.2727</td>\n",
       "      <td>0.80</td>\n",
       "      <td>0.0</td>\n",
       "      <td>8</td>\n",
       "      <td>32</td>\n",
       "      <td>40</td>\n",
       "    </tr>\n",
       "    <tr>\n",
       "      <th>2</th>\n",
       "      <td>3</td>\n",
       "      <td>2011-01-01</td>\n",
       "      <td>1</td>\n",
       "      <td>0</td>\n",
       "      <td>1</td>\n",
       "      <td>2</td>\n",
       "      <td>0</td>\n",
       "      <td>6</td>\n",
       "      <td>0</td>\n",
       "      <td>1</td>\n",
       "      <td>0.22</td>\n",
       "      <td>0.2727</td>\n",
       "      <td>0.80</td>\n",
       "      <td>0.0</td>\n",
       "      <td>5</td>\n",
       "      <td>27</td>\n",
       "      <td>32</td>\n",
       "    </tr>\n",
       "    <tr>\n",
       "      <th>3</th>\n",
       "      <td>4</td>\n",
       "      <td>2011-01-01</td>\n",
       "      <td>1</td>\n",
       "      <td>0</td>\n",
       "      <td>1</td>\n",
       "      <td>3</td>\n",
       "      <td>0</td>\n",
       "      <td>6</td>\n",
       "      <td>0</td>\n",
       "      <td>1</td>\n",
       "      <td>0.24</td>\n",
       "      <td>0.2879</td>\n",
       "      <td>0.75</td>\n",
       "      <td>0.0</td>\n",
       "      <td>3</td>\n",
       "      <td>10</td>\n",
       "      <td>13</td>\n",
       "    </tr>\n",
       "    <tr>\n",
       "      <th>4</th>\n",
       "      <td>5</td>\n",
       "      <td>2011-01-01</td>\n",
       "      <td>1</td>\n",
       "      <td>0</td>\n",
       "      <td>1</td>\n",
       "      <td>4</td>\n",
       "      <td>0</td>\n",
       "      <td>6</td>\n",
       "      <td>0</td>\n",
       "      <td>1</td>\n",
       "      <td>0.24</td>\n",
       "      <td>0.2879</td>\n",
       "      <td>0.75</td>\n",
       "      <td>0.0</td>\n",
       "      <td>0</td>\n",
       "      <td>1</td>\n",
       "      <td>1</td>\n",
       "    </tr>\n",
       "  </tbody>\n",
       "</table>\n",
       "</div>"
      ],
      "text/plain": [
       "   instant      dteday  season  yr  mnth  hr  holiday  weekday  workingday  \\\n",
       "0        1  2011-01-01       1   0     1   0        0        6           0   \n",
       "1        2  2011-01-01       1   0     1   1        0        6           0   \n",
       "2        3  2011-01-01       1   0     1   2        0        6           0   \n",
       "3        4  2011-01-01       1   0     1   3        0        6           0   \n",
       "4        5  2011-01-01       1   0     1   4        0        6           0   \n",
       "\n",
       "   weathersit  temp   atemp   hum  windspeed  casual  registered  cnt  \n",
       "0           1  0.24  0.2879  0.81        0.0       3          13   16  \n",
       "1           1  0.22  0.2727  0.80        0.0       8          32   40  \n",
       "2           1  0.22  0.2727  0.80        0.0       5          27   32  \n",
       "3           1  0.24  0.2879  0.75        0.0       3          10   13  \n",
       "4           1  0.24  0.2879  0.75        0.0       0           1    1  "
      ]
     },
     "execution_count": 2,
     "metadata": {},
     "output_type": "execute_result"
    }
   ],
   "source": [
    "df = pd.read_csv(\"hour.csv\")\n",
    "df.head()"
   ]
  },
  {
   "cell_type": "code",
   "execution_count": 3,
   "metadata": {},
   "outputs": [
    {
     "data": {
      "text/plain": [
       "instant         int64\n",
       "dteday         object\n",
       "season          int64\n",
       "yr              int64\n",
       "mnth            int64\n",
       "hr              int64\n",
       "holiday         int64\n",
       "weekday         int64\n",
       "workingday      int64\n",
       "weathersit      int64\n",
       "temp          float64\n",
       "atemp         float64\n",
       "hum           float64\n",
       "windspeed     float64\n",
       "casual          int64\n",
       "registered      int64\n",
       "cnt             int64\n",
       "dtype: object"
      ]
     },
     "execution_count": 3,
     "metadata": {},
     "output_type": "execute_result"
    }
   ],
   "source": [
    "#checking data types\n",
    "df.dtypes"
   ]
  },
  {
   "cell_type": "code",
   "execution_count": 4,
   "metadata": {},
   "outputs": [
    {
     "data": {
      "text/html": [
       "<div>\n",
       "<style scoped>\n",
       "    .dataframe tbody tr th:only-of-type {\n",
       "        vertical-align: middle;\n",
       "    }\n",
       "\n",
       "    .dataframe tbody tr th {\n",
       "        vertical-align: top;\n",
       "    }\n",
       "\n",
       "    .dataframe thead th {\n",
       "        text-align: right;\n",
       "    }\n",
       "</style>\n",
       "<table border=\"1\" class=\"dataframe\">\n",
       "  <thead>\n",
       "    <tr style=\"text-align: right;\">\n",
       "      <th></th>\n",
       "      <th>Total</th>\n",
       "      <th>Percent</th>\n",
       "    </tr>\n",
       "  </thead>\n",
       "  <tbody>\n",
       "    <tr>\n",
       "      <th>cnt</th>\n",
       "      <td>0</td>\n",
       "      <td>0.0</td>\n",
       "    </tr>\n",
       "    <tr>\n",
       "      <th>weekday</th>\n",
       "      <td>0</td>\n",
       "      <td>0.0</td>\n",
       "    </tr>\n",
       "    <tr>\n",
       "      <th>dteday</th>\n",
       "      <td>0</td>\n",
       "      <td>0.0</td>\n",
       "    </tr>\n",
       "    <tr>\n",
       "      <th>season</th>\n",
       "      <td>0</td>\n",
       "      <td>0.0</td>\n",
       "    </tr>\n",
       "    <tr>\n",
       "      <th>yr</th>\n",
       "      <td>0</td>\n",
       "      <td>0.0</td>\n",
       "    </tr>\n",
       "    <tr>\n",
       "      <th>mnth</th>\n",
       "      <td>0</td>\n",
       "      <td>0.0</td>\n",
       "    </tr>\n",
       "    <tr>\n",
       "      <th>hr</th>\n",
       "      <td>0</td>\n",
       "      <td>0.0</td>\n",
       "    </tr>\n",
       "    <tr>\n",
       "      <th>holiday</th>\n",
       "      <td>0</td>\n",
       "      <td>0.0</td>\n",
       "    </tr>\n",
       "    <tr>\n",
       "      <th>workingday</th>\n",
       "      <td>0</td>\n",
       "      <td>0.0</td>\n",
       "    </tr>\n",
       "    <tr>\n",
       "      <th>registered</th>\n",
       "      <td>0</td>\n",
       "      <td>0.0</td>\n",
       "    </tr>\n",
       "    <tr>\n",
       "      <th>weathersit</th>\n",
       "      <td>0</td>\n",
       "      <td>0.0</td>\n",
       "    </tr>\n",
       "    <tr>\n",
       "      <th>temp</th>\n",
       "      <td>0</td>\n",
       "      <td>0.0</td>\n",
       "    </tr>\n",
       "    <tr>\n",
       "      <th>atemp</th>\n",
       "      <td>0</td>\n",
       "      <td>0.0</td>\n",
       "    </tr>\n",
       "    <tr>\n",
       "      <th>hum</th>\n",
       "      <td>0</td>\n",
       "      <td>0.0</td>\n",
       "    </tr>\n",
       "    <tr>\n",
       "      <th>windspeed</th>\n",
       "      <td>0</td>\n",
       "      <td>0.0</td>\n",
       "    </tr>\n",
       "    <tr>\n",
       "      <th>casual</th>\n",
       "      <td>0</td>\n",
       "      <td>0.0</td>\n",
       "    </tr>\n",
       "    <tr>\n",
       "      <th>instant</th>\n",
       "      <td>0</td>\n",
       "      <td>0.0</td>\n",
       "    </tr>\n",
       "  </tbody>\n",
       "</table>\n",
       "</div>"
      ],
      "text/plain": [
       "            Total  Percent\n",
       "cnt             0      0.0\n",
       "weekday         0      0.0\n",
       "dteday          0      0.0\n",
       "season          0      0.0\n",
       "yr              0      0.0\n",
       "mnth            0      0.0\n",
       "hr              0      0.0\n",
       "holiday         0      0.0\n",
       "workingday      0      0.0\n",
       "registered      0      0.0\n",
       "weathersit      0      0.0\n",
       "temp            0      0.0\n",
       "atemp           0      0.0\n",
       "hum             0      0.0\n",
       "windspeed       0      0.0\n",
       "casual          0      0.0\n",
       "instant         0      0.0"
      ]
     },
     "execution_count": 4,
     "metadata": {},
     "output_type": "execute_result"
    }
   ],
   "source": [
    "#checking missing values \n",
    "total = df.isnull().sum().sort_values(ascending=False)\n",
    "percent = (df.isnull().sum()/df.isnull().count()).sort_values(ascending=False)\n",
    "missing_data = pd.concat([total, percent], axis=1, keys=['Total', 'Percent'])\n",
    "missing_data.head(20)"
   ]
  },
  {
   "cell_type": "code",
   "execution_count": 5,
   "metadata": {},
   "outputs": [
    {
     "data": {
      "text/plain": [
       "count    17379.000000\n",
       "mean       189.463088\n",
       "std        181.387599\n",
       "min          1.000000\n",
       "25%         40.000000\n",
       "50%        142.000000\n",
       "75%        281.000000\n",
       "max        977.000000\n",
       "Name: cnt, dtype: float64"
      ]
     },
     "execution_count": 5,
     "metadata": {},
     "output_type": "execute_result"
    }
   ],
   "source": [
    "df['cnt'].describe()"
   ]
  },
  {
   "cell_type": "code",
   "execution_count": 6,
   "metadata": {},
   "outputs": [
    {
     "data": {
      "image/png": "[encoded data removed]",
      "text/plain": [
       "<Figure size 432x288 with 1 Axes>"
      ]
     },
     "metadata": {
      "needs_background": "light"
     },
     "output_type": "display_data"
    }
   ],
   "source": [
    "sns.distplot(df['cnt']);"
   ]
  },
  {
   "cell_type": "code",
   "execution_count": 7,
   "metadata": {},
   "outputs": [
    {
     "name": "stdout",
     "output_type": "stream",
     "text": [
      "Skewness: 1.277412\n",
      "Kurtosis: 1.417203\n"
     ]
    }
   ],
   "source": [
    "print(\"Skewness: %f\" % df['cnt'].skew())\n",
    "print(\"Kurtosis: %f\" % df['cnt'].kurt())"
   ]
  },
  {
   "cell_type": "code",
   "execution_count": 8,
   "metadata": {},
   "outputs": [
    {
     "data": {
      "image/png": "[encoded data removed]",
      "text/plain": [
       "<Figure size 864x648 with 2 Axes>"
      ]
     },
     "metadata": {
      "needs_background": "light"
     },
     "output_type": "display_data"
    }
   ],
   "source": [
    "#correlation matrix\n",
    "corrmat = df.corr()\n",
    "f, ax = plt.subplots(figsize=(12, 9))\n",
    "sns.heatmap(corrmat, vmax=.8, square=True);"
   ]
  },
  {
   "cell_type": "code",
   "execution_count": 9,
   "metadata": {},
   "outputs": [
    {
     "data": {
      "image/png": "[encoded data removed]",
      "text/plain": [
       "<Figure size 432x288 with 2 Axes>"
      ]
     },
     "metadata": {},
     "output_type": "display_data"
    }
   ],
   "source": [
    "k = 17\n",
    "cols = corrmat.nlargest(k, 'cnt')['cnt'].index\n",
    "cm = np.corrcoef(df[cols].values.T)\n",
    "sns.set(font_scale=1.25)\n",
    "hm = sns.heatmap(cm, cbar=True, annot=True, square=True, fmt='.2f', annot_kws={'size': 6}, yticklabels=cols.values, xticklabels=cols.values)\n",
    "plt.show()"
   ]
  },
  {
   "cell_type": "code",
   "execution_count": 10,
   "metadata": {},
   "outputs": [
    {
     "name": "stdout",
     "output_type": "stream",
     "text": [
      "(17379, 17)\n"
     ]
    }
   ],
   "source": [
    "print(df.shape)"
   ]
  },
  {
   "cell_type": "code",
   "execution_count": 11,
   "metadata": {},
   "outputs": [
    {
     "data": {
      "text/html": [
       "<div>\n",
       "<style scoped>\n",
       "    .dataframe tbody tr th:only-of-type {\n",
       "        vertical-align: middle;\n",
       "    }\n",
       "\n",
       "    .dataframe tbody tr th {\n",
       "        vertical-align: top;\n",
       "    }\n",
       "\n",
       "    .dataframe thead th {\n",
       "        text-align: right;\n",
       "    }\n",
       "</style>\n",
       "<table border=\"1\" class=\"dataframe\">\n",
       "  <thead>\n",
       "    <tr style=\"text-align: right;\">\n",
       "      <th></th>\n",
       "      <th>yr</th>\n",
       "      <th>mnth</th>\n",
       "      <th>hr</th>\n",
       "      <th>holiday</th>\n",
       "      <th>weekday</th>\n",
       "      <th>workingday</th>\n",
       "      <th>weathersit</th>\n",
       "      <th>atemp</th>\n",
       "      <th>hum</th>\n",
       "      <th>windspeed</th>\n",
       "      <th>cnt</th>\n",
       "    </tr>\n",
       "  </thead>\n",
       "  <tbody>\n",
       "    <tr>\n",
       "      <th>0</th>\n",
       "      <td>0</td>\n",
       "      <td>1</td>\n",
       "      <td>0</td>\n",
       "      <td>0</td>\n",
       "      <td>6</td>\n",
       "      <td>0</td>\n",
       "      <td>1</td>\n",
       "      <td>0.2879</td>\n",
       "      <td>0.81</td>\n",
       "      <td>0.0000</td>\n",
       "      <td>16</td>\n",
       "    </tr>\n",
       "    <tr>\n",
       "      <th>1</th>\n",
       "      <td>0</td>\n",
       "      <td>1</td>\n",
       "      <td>1</td>\n",
       "      <td>0</td>\n",
       "      <td>6</td>\n",
       "      <td>0</td>\n",
       "      <td>1</td>\n",
       "      <td>0.2727</td>\n",
       "      <td>0.80</td>\n",
       "      <td>0.0000</td>\n",
       "      <td>40</td>\n",
       "    </tr>\n",
       "    <tr>\n",
       "      <th>2</th>\n",
       "      <td>0</td>\n",
       "      <td>1</td>\n",
       "      <td>2</td>\n",
       "      <td>0</td>\n",
       "      <td>6</td>\n",
       "      <td>0</td>\n",
       "      <td>1</td>\n",
       "      <td>0.2727</td>\n",
       "      <td>0.80</td>\n",
       "      <td>0.0000</td>\n",
       "      <td>32</td>\n",
       "    </tr>\n",
       "    <tr>\n",
       "      <th>3</th>\n",
       "      <td>0</td>\n",
       "      <td>1</td>\n",
       "      <td>3</td>\n",
       "      <td>0</td>\n",
       "      <td>6</td>\n",
       "      <td>0</td>\n",
       "      <td>1</td>\n",
       "      <td>0.2879</td>\n",
       "      <td>0.75</td>\n",
       "      <td>0.0000</td>\n",
       "      <td>13</td>\n",
       "    </tr>\n",
       "    <tr>\n",
       "      <th>4</th>\n",
       "      <td>0</td>\n",
       "      <td>1</td>\n",
       "      <td>4</td>\n",
       "      <td>0</td>\n",
       "      <td>6</td>\n",
       "      <td>0</td>\n",
       "      <td>1</td>\n",
       "      <td>0.2879</td>\n",
       "      <td>0.75</td>\n",
       "      <td>0.0000</td>\n",
       "      <td>1</td>\n",
       "    </tr>\n",
       "    <tr>\n",
       "      <th>...</th>\n",
       "      <td>...</td>\n",
       "      <td>...</td>\n",
       "      <td>...</td>\n",
       "      <td>...</td>\n",
       "      <td>...</td>\n",
       "      <td>...</td>\n",
       "      <td>...</td>\n",
       "      <td>...</td>\n",
       "      <td>...</td>\n",
       "      <td>...</td>\n",
       "      <td>...</td>\n",
       "    </tr>\n",
       "    <tr>\n",
       "      <th>17374</th>\n",
       "      <td>1</td>\n",
       "      <td>12</td>\n",
       "      <td>19</td>\n",
       "      <td>0</td>\n",
       "      <td>1</td>\n",
       "      <td>1</td>\n",
       "      <td>2</td>\n",
       "      <td>0.2576</td>\n",
       "      <td>0.60</td>\n",
       "      <td>0.1642</td>\n",
       "      <td>119</td>\n",
       "    </tr>\n",
       "    <tr>\n",
       "      <th>17375</th>\n",
       "      <td>1</td>\n",
       "      <td>12</td>\n",
       "      <td>20</td>\n",
       "      <td>0</td>\n",
       "      <td>1</td>\n",
       "      <td>1</td>\n",
       "      <td>2</td>\n",
       "      <td>0.2576</td>\n",
       "      <td>0.60</td>\n",
       "      <td>0.1642</td>\n",
       "      <td>89</td>\n",
       "    </tr>\n",
       "    <tr>\n",
       "      <th>17376</th>\n",
       "      <td>1</td>\n",
       "      <td>12</td>\n",
       "      <td>21</td>\n",
       "      <td>0</td>\n",
       "      <td>1</td>\n",
       "      <td>1</td>\n",
       "      <td>1</td>\n",
       "      <td>0.2576</td>\n",
       "      <td>0.60</td>\n",
       "      <td>0.1642</td>\n",
       "      <td>90</td>\n",
       "    </tr>\n",
       "    <tr>\n",
       "      <th>17377</th>\n",
       "      <td>1</td>\n",
       "      <td>12</td>\n",
       "      <td>22</td>\n",
       "      <td>0</td>\n",
       "      <td>1</td>\n",
       "      <td>1</td>\n",
       "      <td>1</td>\n",
       "      <td>0.2727</td>\n",
       "      <td>0.56</td>\n",
       "      <td>0.1343</td>\n",
       "      <td>61</td>\n",
       "    </tr>\n",
       "    <tr>\n",
       "      <th>17378</th>\n",
       "      <td>1</td>\n",
       "      <td>12</td>\n",
       "      <td>23</td>\n",
       "      <td>0</td>\n",
       "      <td>1</td>\n",
       "      <td>1</td>\n",
       "      <td>1</td>\n",
       "      <td>0.2727</td>\n",
       "      <td>0.65</td>\n",
       "      <td>0.1343</td>\n",
       "      <td>49</td>\n",
       "    </tr>\n",
       "  </tbody>\n",
       "</table>\n",
       "<p>17379 rows × 11 columns</p>\n",
       "</div>"
      ],
      "text/plain": [
       "       yr  mnth  hr  holiday  weekday  workingday  weathersit   atemp   hum  \\\n",
       "0       0     1   0        0        6           0           1  0.2879  0.81   \n",
       "1       0     1   1        0        6           0           1  0.2727  0.80   \n",
       "2       0     1   2        0        6           0           1  0.2727  0.80   \n",
       "3       0     1   3        0        6           0           1  0.2879  0.75   \n",
       "4       0     1   4        0        6           0           1  0.2879  0.75   \n",
       "...    ..   ...  ..      ...      ...         ...         ...     ...   ...   \n",
       "17374   1    12  19        0        1           1           2  0.2576  0.60   \n",
       "17375   1    12  20        0        1           1           2  0.2576  0.60   \n",
       "17376   1    12  21        0        1           1           1  0.2576  0.60   \n",
       "17377   1    12  22        0        1           1           1  0.2727  0.56   \n",
       "17378   1    12  23        0        1           1           1  0.2727  0.65   \n",
       "\n",
       "       windspeed  cnt  \n",
       "0         0.0000   16  \n",
       "1         0.0000   40  \n",
       "2         0.0000   32  \n",
       "3         0.0000   13  \n",
       "4         0.0000    1  \n",
       "...          ...  ...  \n",
       "17374     0.1642  119  \n",
       "17375     0.1642   89  \n",
       "17376     0.1642   90  \n",
       "17377     0.1343   61  \n",
       "17378     0.1343   49  \n",
       "\n",
       "[17379 rows x 11 columns]"
      ]
     },
     "execution_count": 11,
     "metadata": {},
     "output_type": "execute_result"
    }
   ],
   "source": [
    "df = df.drop(columns = [\"temp\"])\n",
    "df = df.drop(columns = [\"registered\"])\n",
    "df = df.drop(columns = [\"casual\"])\n",
    "df = df.drop(columns = [\"dteday\"])\n",
    "df = df.drop(columns = [\"season\"])\n",
    "df = df.drop(columns = [\"instant\"])\n",
    "df"
   ]
  },
  {
   "cell_type": "code",
   "execution_count": 12,
   "metadata": {},
   "outputs": [
    {
     "data": {
      "image/png": "[encoded data removed]",
      "text/plain": [
       "<Figure size 864x648 with 2 Axes>"
      ]
     },
     "metadata": {},
     "output_type": "display_data"
    }
   ],
   "source": [
    "corrmat = df.corr()\n",
    "f, ax = plt.subplots(figsize=(12, 9))\n",
    "sns.heatmap(corrmat, vmax=.8, square=True);"
   ]
  },
  {
   "cell_type": "code",
   "execution_count": 13,
   "metadata": {},
   "outputs": [
    {
     "data": {
      "text/plain": [
       "yr              int64\n",
       "mnth            int64\n",
       "hr              int64\n",
       "holiday         int64\n",
       "weekday         int64\n",
       "workingday      int64\n",
       "weathersit      int64\n",
       "atemp         float64\n",
       "hum           float64\n",
       "windspeed     float64\n",
       "cnt             int64\n",
       "dtype: object"
      ]
     },
     "execution_count": 13,
     "metadata": {},
     "output_type": "execute_result"
    }
   ],
   "source": [
    "df.dtypes"
   ]
  },
  {
   "cell_type": "code",
   "execution_count": 14,
   "metadata": {},
   "outputs": [
    {
     "data": {
      "text/plain": [
       "0         16\n",
       "1         40\n",
       "2         32\n",
       "3         13\n",
       "4          1\n",
       "        ... \n",
       "17374    119\n",
       "17375     89\n",
       "17376     90\n",
       "17377     61\n",
       "17378     49\n",
       "Name: cnt, Length: 17379, dtype: int64"
      ]
     },
     "execution_count": 14,
     "metadata": {},
     "output_type": "execute_result"
    }
   ],
   "source": [
    "df[\"cnt\"]"
   ]
  },
  {
   "cell_type": "code",
   "execution_count": 15,
   "metadata": {},
   "outputs": [],
   "source": [
    "no_riders = tuple(range(0,1))\n",
    "low = tuple(range(1, 50, 1))\n",
    "med = tuple(range(50, 400, 1))\n",
    "high = tuple(range(400, 1000000, 1))\n",
    "# Defineing peramiters names\n",
    "def filter_riders(platform):\n",
    "    if platform in no_riders:\n",
    "        return '0'\n",
    "    elif platform in low:\n",
    "        return '1'\n",
    "    elif platform in med:\n",
    "        return '2'\n",
    "    else:\n",
    "        return '3'\n"
   ]
  },
  {
   "cell_type": "code",
   "execution_count": 16,
   "metadata": {},
   "outputs": [],
   "source": [
    "df['cnt'].apply(filter_riders)\n",
    "df['riders'] = df['cnt'].apply(filter_riders)\n",
    "df = df.drop(columns = [\"cnt\"])"
   ]
  },
  {
   "cell_type": "code",
   "execution_count": 17,
   "metadata": {},
   "outputs": [
    {
     "data": {
      "text/plain": [
       "Index(['yr', 'mnth', 'hr', 'holiday', 'weekday', 'workingday', 'weathersit',\n",
       "       'atemp', 'hum', 'windspeed', 'riders'],\n",
       "      dtype='object')"
      ]
     },
     "execution_count": 17,
     "metadata": {},
     "output_type": "execute_result"
    }
   ],
   "source": [
    "df.columns"
   ]
  },
  {
   "cell_type": "code",
   "execution_count": 18,
   "metadata": {},
   "outputs": [
    {
     "data": {
      "text/plain": [
       "yr              int64\n",
       "mnth            int64\n",
       "hr              int64\n",
       "holiday         int64\n",
       "weekday         int64\n",
       "workingday      int64\n",
       "weathersit      int64\n",
       "atemp         float64\n",
       "hum           float64\n",
       "windspeed     float64\n",
       "riders         object\n",
       "dtype: object"
      ]
     },
     "execution_count": 18,
     "metadata": {},
     "output_type": "execute_result"
    }
   ],
   "source": [
    "df.dtypes"
   ]
  },
  {
   "cell_type": "code",
   "execution_count": 19,
   "metadata": {},
   "outputs": [],
   "source": [
    "# Defining Data into X1,y1\n",
    "X1 = np.array(df.iloc[:,0:9])\n",
    "y1 = np.array(df['riders'])"
   ]
  },
  {
   "cell_type": "code",
   "execution_count": 20,
   "metadata": {},
   "outputs": [
    {
     "data": {
      "text/plain": [
       "2    10268\n",
       "1     4821\n",
       "3     2290\n",
       "Name: riders, dtype: int64"
      ]
     },
     "execution_count": 20,
     "metadata": {},
     "output_type": "execute_result"
    }
   ],
   "source": [
    "df['riders'].value_counts()"
   ]
  },
  {
   "cell_type": "code",
   "execution_count": 21,
   "metadata": {},
   "outputs": [],
   "source": [
    "from sklearn.model_selection import train_test_split\n",
    "X1_train, X1_test, y1_train, y1_test = train_test_split(X1, y1,test_size= 0.3, random_state =42)"
   ]
  },
  {
   "cell_type": "code",
   "execution_count": 22,
   "metadata": {},
   "outputs": [
    {
     "name": "stdout",
     "output_type": "stream",
     "text": [
      "Accuracy of Decision tree 1 classifier on training set: 1.00\n",
      "Accuracy of Decision tree 1 classifier on test set: 0.89\n",
      "Time 1.498498022556305e-08\n"
     ]
    }
   ],
   "source": [
    "# Decision Tree Classifier 1\n",
    "from sklearn.tree import DecisionTreeClassifier\n",
    "from sklearn import metrics\n",
    "clf1 = DecisionTreeClassifier().fit(X1_train, y1_train)\n",
    "print('Accuracy of Decision tree 1 classifier on training set: {:.2f}'.format(clf1.score(X1_train, y1_train)))\n",
    "print('Accuracy of Decision tree 1 classifier on test set: {:.2f}' .format(clf1.score(X1_test, y1_test)))\n",
    "elapsed_time = timeit.timeit( number=100)/100\n",
    "print('Time',elapsed_time)"
   ]
  },
  {
   "cell_type": "code",
   "execution_count": 23,
   "metadata": {},
   "outputs": [
    {
     "name": "stdout",
     "output_type": "stream",
     "text": [
      "[[1287  152    1]\n",
      " [ 140 2849  145]\n",
      " [   0  110  530]]\n",
      "              precision    recall  f1-score   support\n",
      "\n",
      "           1       0.90      0.89      0.90      1440\n",
      "           2       0.92      0.91      0.91      3134\n",
      "           3       0.78      0.83      0.81       640\n",
      "\n",
      "    accuracy                           0.89      5214\n",
      "   macro avg       0.87      0.88      0.87      5214\n",
      "weighted avg       0.90      0.89      0.90      5214\n",
      "\n"
     ]
    }
   ],
   "source": [
    "# Decision Tree Classification and Confusion matrix\n",
    "from sklearn.metrics import classification_report\n",
    "from sklearn.metrics import confusion_matrix\n",
    "pred1 = clf1.predict(X1_test)\n",
    "print(confusion_matrix(y1_test, pred1))\n",
    "print(classification_report(y1_test, pred1))"
   ]
  },
  {
   "cell_type": "code",
   "execution_count": 24,
   "metadata": {},
   "outputs": [
    {
     "name": "stdout",
     "output_type": "stream",
     "text": [
      "Accuracy of K-NN 1 classifier on training set: 0.94\n",
      "Accuracy of K-NN 1 classifier on test set: 0.90\n",
      "Time 1.6689300537109377e-08\n"
     ]
    }
   ],
   "source": [
    "# KNN 1\n",
    "# Takes a long time\n",
    "from sklearn.neighbors import KNeighborsClassifier\n",
    "from sklearn.metrics import accuracy_score\n",
    "knn1 = KNeighborsClassifier()\n",
    "knn1.fit(X1_train, y1_train)\n",
    "print('Accuracy of K-NN 1 classifier on training set: {:.2f}'.format(knn1.score(X1_train,y1_train)))\n",
    "print('Accuracy of K-NN 1 classifier on test set: {:.2f}'.format(knn1.score(X1_test,y1_test)))\n",
    "elapsed_time = timeit.timeit( number=100)/100\n",
    "print('Time',elapsed_time)"
   ]
  },
  {
   "cell_type": "code",
   "execution_count": 25,
   "metadata": {},
   "outputs": [
    {
     "name": "stdout",
     "output_type": "stream",
     "text": [
      "[[1273  167    0]\n",
      " [ 108 2914  112]\n",
      " [   0  134  506]]\n",
      "              precision    recall  f1-score   support\n",
      "\n",
      "           1       0.92      0.88      0.90      1440\n",
      "           2       0.91      0.93      0.92      3134\n",
      "           3       0.82      0.79      0.80       640\n",
      "\n",
      "    accuracy                           0.90      5214\n",
      "   macro avg       0.88      0.87      0.87      5214\n",
      "weighted avg       0.90      0.90      0.90      5214\n",
      "\n"
     ]
    }
   ],
   "source": [
    "# KNN Classification and Confusion matrix\n",
    "from sklearn.metrics import classification_report\n",
    "from sklearn.metrics import confusion_matrix\n",
    "pred1 = knn1.predict(X1_test)\n",
    "print(confusion_matrix(y1_test, pred1))\n",
    "print(classification_report(y1_test, pred1))"
   ]
  },
  {
   "cell_type": "code",
   "execution_count": 26,
   "metadata": {},
   "outputs": [
    {
     "name": "stdout",
     "output_type": "stream",
     "text": [
      "Accuracy of SVM 1 classifier on training set: 0.77\n",
      "Accuracy of SVM 1 classifier on test set: 0.78\n",
      "Time 1.7676502466201783e-08\n"
     ]
    }
   ],
   "source": [
    "# SVM 1\n",
    "from sklearn.svm import SVC\n",
    "svm1= SVC(gamma= 'scale')\n",
    "svm1.fit(X1_train, y1_train)\n",
    "print('Accuracy of SVM 1 classifier on training set: {:.2f}'.format(svm1.score(X1_train, y1_train)))\n",
    "print('Accuracy of SVM 1 classifier on test set: {:.2f}'.format(svm1.score(X1_test, y1_test)))\n",
    "elapsed_time = timeit.timeit( number=100)/100\n",
    "print('Time',elapsed_time)"
   ]
  },
  {
   "cell_type": "code",
   "execution_count": 27,
   "metadata": {},
   "outputs": [
    {
     "name": "stdout",
     "output_type": "stream",
     "text": [
      "[[1248  192    0]\n",
      " [ 290 2844    0]\n",
      " [   0  640    0]]\n",
      "              precision    recall  f1-score   support\n",
      "\n",
      "           1       0.81      0.87      0.84      1440\n",
      "           2       0.77      0.91      0.84      3134\n",
      "           3       0.00      0.00      0.00       640\n",
      "\n",
      "    accuracy                           0.78      5214\n",
      "   macro avg       0.53      0.59      0.56      5214\n",
      "weighted avg       0.69      0.78      0.73      5214\n",
      "\n"
     ]
    },
    {
     "name": "stderr",
     "output_type": "stream",
     "text": [
      "/opt/conda/lib/python3.7/site-packages/sklearn/metrics/_classification.py:1272: UndefinedMetricWarning: Precision and F-score are ill-defined and being set to 0.0 in labels with no predicted samples. Use `zero_division` parameter to control this behavior.\n",
      "  _warn_prf(average, modifier, msg_start, len(result))\n"
     ]
    }
   ],
   "source": [
    "# SVM Classification and Confusion matrix\n",
    "from sklearn.metrics import classification_report\n",
    "from sklearn.metrics import confusion_matrix\n",
    "pred1 = svm1.predict(X1_test)\n",
    "print(confusion_matrix(y1_test, pred1))\n",
    "print(classification_report(y1_test, pred1))"
   ]
  },
  {
   "cell_type": "code",
   "execution_count": 28,
   "metadata": {},
   "outputs": [
    {
     "name": "stdout",
     "output_type": "stream",
     "text": [
      "Accuracy of naive_bayes classifier on training set: 0.71\n",
      "Accuracy of naive_bayes classifier on test set: 0.71\n",
      "Time 1.5487894415855407e-08\n"
     ]
    }
   ],
   "source": [
    "# Naive Bayes 1\n",
    "from sklearn.naive_bayes import GaussianNB\n",
    "gnb = GaussianNB()\n",
    "y_pred = gnb.fit(X1_train, y1_train).predict(X1_test)\n",
    "print('Accuracy of naive_bayes classifier on training set: {:.2f}'.format(gnb.score(X1_train, y1_train)))\n",
    "print('Accuracy of naive_bayes classifier on test set: {:.2f}'.format(gnb.score(X1_test, y1_test)))\n",
    "elapsed_time = timeit.timeit( number=100)/100\n",
    "print('Time',elapsed_time)"
   ]
  },
  {
   "cell_type": "code",
   "execution_count": 29,
   "metadata": {},
   "outputs": [
    {
     "name": "stdout",
     "output_type": "stream",
     "text": [
      "[[1122  318    0]\n",
      " [ 528 2363  243]\n",
      " [  36  370  234]]\n",
      "              precision    recall  f1-score   support\n",
      "\n",
      "           1       0.67      0.78      0.72      1440\n",
      "           2       0.77      0.75      0.76      3134\n",
      "           3       0.49      0.37      0.42       640\n",
      "\n",
      "    accuracy                           0.71      5214\n",
      "   macro avg       0.64      0.63      0.63      5214\n",
      "weighted avg       0.71      0.71      0.71      5214\n",
      "\n"
     ]
    }
   ],
   "source": [
    "# Naive Bayes Classification and Confusion matrix\n",
    "pred1 = gnb.predict(X1_test)\n",
    "print(confusion_matrix(y1_test, pred1))\n",
    "print(classification_report(y1_test, pred1))"
   ]
  },
  {
   "cell_type": "code",
   "execution_count": null,
   "metadata": {},
   "outputs": [],
   "source": []
  },
  {
   "cell_type": "code",
   "execution_count": null,
   "metadata": {},
   "outputs": [],
   "source": []
  },
  {
   "cell_type": "code",
   "execution_count": 30,
   "metadata": {},
   "outputs": [],
   "source": [
    "dffs = pd.read_csv(\"hour.csv\")\n"
   ]
  },
  {
   "cell_type": "code",
   "execution_count": 31,
   "metadata": {},
   "outputs": [
    {
     "data": {
      "text/plain": [
       "Index(['season', 'yr', 'mnth', 'hr', 'holiday', 'weekday', 'workingday',\n",
       "       'weathersit', 'atemp', 'hum', 'windspeed', 'cnt'],\n",
       "      dtype='object')"
      ]
     },
     "execution_count": 31,
     "metadata": {},
     "output_type": "execute_result"
    }
   ],
   "source": [
    "dffs = dffs.drop(columns = [\"dteday\"])\n",
    "dffs = dffs.drop(columns = [\"registered\"])\n",
    "dffs = dffs.drop(columns = [\"casual\"])\n",
    "dffs = dffs.drop(columns = [\"temp\"])\n",
    "dffs = dffs.drop(columns = [\"instant\"])\n",
    "dffs.columns"
   ]
  },
  {
   "cell_type": "code",
   "execution_count": 32,
   "metadata": {},
   "outputs": [
    {
     "data": {
      "text/plain": [
       "'0.11.1'"
      ]
     },
     "execution_count": 32,
     "metadata": {},
     "output_type": "execute_result"
    }
   ],
   "source": [
    "import statsmodels.api as sm\n",
    "sm.__version__"
   ]
  },
  {
   "cell_type": "code",
   "execution_count": 33,
   "metadata": {},
   "outputs": [
    {
     "data": {
      "text/html": [
       "<div>\n",
       "<style scoped>\n",
       "    .dataframe tbody tr th:only-of-type {\n",
       "        vertical-align: middle;\n",
       "    }\n",
       "\n",
       "    .dataframe tbody tr th {\n",
       "        vertical-align: top;\n",
       "    }\n",
       "\n",
       "    .dataframe thead th {\n",
       "        text-align: right;\n",
       "    }\n",
       "</style>\n",
       "<table border=\"1\" class=\"dataframe\">\n",
       "  <thead>\n",
       "    <tr style=\"text-align: right;\">\n",
       "      <th></th>\n",
       "      <th>season</th>\n",
       "      <th>yr</th>\n",
       "      <th>mnth</th>\n",
       "      <th>hr</th>\n",
       "      <th>holiday</th>\n",
       "      <th>weekday</th>\n",
       "      <th>workingday</th>\n",
       "      <th>weathersit</th>\n",
       "      <th>atemp</th>\n",
       "      <th>hum</th>\n",
       "      <th>windspeed</th>\n",
       "    </tr>\n",
       "  </thead>\n",
       "  <tbody>\n",
       "    <tr>\n",
       "      <th>0</th>\n",
       "      <td>1</td>\n",
       "      <td>0</td>\n",
       "      <td>1</td>\n",
       "      <td>0</td>\n",
       "      <td>0</td>\n",
       "      <td>6</td>\n",
       "      <td>0</td>\n",
       "      <td>1</td>\n",
       "      <td>0.2879</td>\n",
       "      <td>0.81</td>\n",
       "      <td>0.0</td>\n",
       "    </tr>\n",
       "    <tr>\n",
       "      <th>1</th>\n",
       "      <td>1</td>\n",
       "      <td>0</td>\n",
       "      <td>1</td>\n",
       "      <td>1</td>\n",
       "      <td>0</td>\n",
       "      <td>6</td>\n",
       "      <td>0</td>\n",
       "      <td>1</td>\n",
       "      <td>0.2727</td>\n",
       "      <td>0.80</td>\n",
       "      <td>0.0</td>\n",
       "    </tr>\n",
       "    <tr>\n",
       "      <th>2</th>\n",
       "      <td>1</td>\n",
       "      <td>0</td>\n",
       "      <td>1</td>\n",
       "      <td>2</td>\n",
       "      <td>0</td>\n",
       "      <td>6</td>\n",
       "      <td>0</td>\n",
       "      <td>1</td>\n",
       "      <td>0.2727</td>\n",
       "      <td>0.80</td>\n",
       "      <td>0.0</td>\n",
       "    </tr>\n",
       "    <tr>\n",
       "      <th>3</th>\n",
       "      <td>1</td>\n",
       "      <td>0</td>\n",
       "      <td>1</td>\n",
       "      <td>3</td>\n",
       "      <td>0</td>\n",
       "      <td>6</td>\n",
       "      <td>0</td>\n",
       "      <td>1</td>\n",
       "      <td>0.2879</td>\n",
       "      <td>0.75</td>\n",
       "      <td>0.0</td>\n",
       "    </tr>\n",
       "    <tr>\n",
       "      <th>4</th>\n",
       "      <td>1</td>\n",
       "      <td>0</td>\n",
       "      <td>1</td>\n",
       "      <td>4</td>\n",
       "      <td>0</td>\n",
       "      <td>6</td>\n",
       "      <td>0</td>\n",
       "      <td>1</td>\n",
       "      <td>0.2879</td>\n",
       "      <td>0.75</td>\n",
       "      <td>0.0</td>\n",
       "    </tr>\n",
       "  </tbody>\n",
       "</table>\n",
       "</div>"
      ],
      "text/plain": [
       "   season  yr  mnth  hr  holiday  weekday  workingday  weathersit   atemp  \\\n",
       "0       1   0     1   0        0        6           0           1  0.2879   \n",
       "1       1   0     1   1        0        6           0           1  0.2727   \n",
       "2       1   0     1   2        0        6           0           1  0.2727   \n",
       "3       1   0     1   3        0        6           0           1  0.2879   \n",
       "4       1   0     1   4        0        6           0           1  0.2879   \n",
       "\n",
       "    hum  windspeed  \n",
       "0  0.81        0.0  \n",
       "1  0.80        0.0  \n",
       "2  0.80        0.0  \n",
       "3  0.75        0.0  \n",
       "4  0.75        0.0  "
      ]
     },
     "execution_count": 33,
     "metadata": {},
     "output_type": "execute_result"
    }
   ],
   "source": [
    "X = dffs.drop(\"cnt\", 1)       # feature matrix\n",
    "y = dffs['cnt']               # target feature\n",
    "X.head()"
   ]
  },
  {
   "cell_type": "code",
   "execution_count": 34,
   "metadata": {},
   "outputs": [],
   "source": [
    "# Forward Selection\n",
    "def forward_selection(data, target, significance_level=0.05):\n",
    "    initial_features = data.columns.tolist()\n",
    "    best_features = []\n",
    "    while (len(initial_features)>0):\n",
    "        remaining_features = list(set(initial_features)-set(best_features))\n",
    "        new_pval = pd.Series(index=remaining_features)\n",
    "        for new_column in remaining_features:\n",
    "            model = sm.OLS(target, sm.add_constant(data[best_features+[new_column]])).fit()\n",
    "            new_pval[new_column] = model.pvalues[new_column]\n",
    "        min_p_value = new_pval.min()\n",
    "        if(min_p_value<significance_level):\n",
    "            best_features.append(new_pval.idxmin())\n",
    "        else:\n",
    "            break\n",
    "    return best_features"
   ]
  },
  {
   "cell_type": "code",
   "execution_count": 35,
   "metadata": {},
   "outputs": [
    {
     "name": "stderr",
     "output_type": "stream",
     "text": [
      "/opt/conda/lib/python3.7/site-packages/ipykernel_launcher.py:7: DeprecationWarning: The default dtype for empty Series will be 'object' instead of 'float64' in a future version. Specify a dtype explicitly to silence this warning.\n",
      "  import sys\n"
     ]
    },
    {
     "data": {
      "text/plain": [
       "['hr', 'atemp', 'yr', 'hum', 'season', 'windspeed', 'holiday', 'weekday']"
      ]
     },
     "execution_count": 35,
     "metadata": {},
     "output_type": "execute_result"
    }
   ],
   "source": [
    "forward_selection(X,y)"
   ]
  },
  {
   "cell_type": "code",
   "execution_count": 77,
   "metadata": {},
   "outputs": [],
   "source": [
    "df2 = pd.read_csv(\"hour.csv\")\n",
    "no_riders = tuple(range(0))\n",
    "low = tuple(range(1, 50, 1))\n",
    "med = tuple(range(50, 600, 1))\n",
    "high = tuple(range(600, 1000000, 1))\n",
    "# Defineing peramiters names\n",
    "def filter_riders(platform):\n",
    "    if platform in no_riders:\n",
    "        return '0'\n",
    "    elif platform in low:\n",
    "        return '1'\n",
    "    elif platform in med:\n",
    "        return '2'\n",
    "    else:\n",
    "        return '3'\n",
    "\n",
    "df2['cnt'].apply(filter_riders)\n",
    "df2['riders'] = df2['cnt'].apply(filter_riders)\n",
    "df2 = df2.drop(columns = [\"cnt\"])\n",
    "df2 = df2.drop(columns = [\"dteday\"])\n",
    "df2 = df2[['hr', 'atemp', 'yr', 'hum', 'season', 'windspeed', 'holiday', 'weekday','riders']]\n",
    "# Defining Data into X1,y1\n",
    "X1 = np.array(df2.iloc[:,0:8])\n",
    "y1 = np.array(df2['riders'])\n",
    "\n",
    "from sklearn.model_selection import train_test_split\n",
    "X1_train, X1_test, y1_train, y1_test = train_test_split(X1, y1,test_size= 0.3, random_state =42)"
   ]
  },
  {
   "cell_type": "code",
   "execution_count": 78,
   "metadata": {},
   "outputs": [
    {
     "name": "stdout",
     "output_type": "stream",
     "text": [
      "Accuracy of Decision tree 2 classifier on training set: 1.00\n",
      "Accuracy of Decision tree 2 classifier on test set: 0.91\n",
      "Time 1.6624107956886293e-08\n"
     ]
    }
   ],
   "source": [
    "# Decision Tree Classifier 2\n",
    "from sklearn.tree import DecisionTreeClassifier\n",
    "from sklearn import metrics\n",
    "clf1 = DecisionTreeClassifier().fit(X1_train, y1_train)\n",
    "print('Accuracy of Decision tree 2 classifier on training set: {:.2f}'.format(clf1.score(X1_train, y1_train)))\n",
    "print('Accuracy of Decision tree 2 classifier on test set: {:.2f}' .format(clf1.score(X1_test, y1_test)))\n",
    "elapsed_time = timeit.timeit( number=100)/100\n",
    "print('Time',elapsed_time)"
   ]
  },
  {
   "cell_type": "code",
   "execution_count": 79,
   "metadata": {},
   "outputs": [
    {
     "name": "stdout",
     "output_type": "stream",
     "text": [
      "[[1273  167    0]\n",
      " [ 186 3351   57]\n",
      " [   0   39  141]]\n",
      "              precision    recall  f1-score   support\n",
      "\n",
      "           1       0.87      0.88      0.88      1440\n",
      "           2       0.94      0.93      0.94      3594\n",
      "           3       0.71      0.78      0.75       180\n",
      "\n",
      "    accuracy                           0.91      5214\n",
      "   macro avg       0.84      0.87      0.85      5214\n",
      "weighted avg       0.91      0.91      0.91      5214\n",
      "\n"
     ]
    }
   ],
   "source": [
    "# Decision Tree Classification and Confusion matrix\n",
    "from sklearn.metrics import classification_report\n",
    "from sklearn.metrics import confusion_matrix\n",
    "pred1 = clf1.predict(X1_test)\n",
    "print(confusion_matrix(y1_test, pred1))\n",
    "print(classification_report(y1_test, pred1))"
   ]
  },
  {
   "cell_type": "code",
   "execution_count": 80,
   "metadata": {},
   "outputs": [
    {
     "name": "stdout",
     "output_type": "stream",
     "text": [
      "Accuracy of K-NN 2 classifier on training set: 0.94\n",
      "Accuracy of K-NN 2 classifier on test set: 0.93\n",
      "Time 1.8775463104248047e-08\n"
     ]
    }
   ],
   "source": [
    "# KNN 2\n",
    "# Takes a long time\n",
    "from sklearn.neighbors import KNeighborsClassifier\n",
    "from sklearn.metrics import accuracy_score\n",
    "knn1 = KNeighborsClassifier()\n",
    "knn1.fit(X1_train, y1_train)\n",
    "print('Accuracy of K-NN 2 classifier on training set: {:.2f}'.format(knn1.score(X1_train,y1_train)))\n",
    "print('Accuracy of K-NN 2 classifier on test set: {:.2f}'.format(knn1.score(X1_test,y1_test)))\n",
    "elapsed_time = timeit.timeit( number=100)/100\n",
    "print('Time',elapsed_time)"
   ]
  },
  {
   "cell_type": "code",
   "execution_count": 81,
   "metadata": {},
   "outputs": [
    {
     "name": "stdout",
     "output_type": "stream",
     "text": [
      "[[1257  183    0]\n",
      " [  81 3462   51]\n",
      " [   0   44  136]]\n",
      "              precision    recall  f1-score   support\n",
      "\n",
      "           1       0.94      0.87      0.90      1440\n",
      "           2       0.94      0.96      0.95      3594\n",
      "           3       0.73      0.76      0.74       180\n",
      "\n",
      "    accuracy                           0.93      5214\n",
      "   macro avg       0.87      0.86      0.87      5214\n",
      "weighted avg       0.93      0.93      0.93      5214\n",
      "\n"
     ]
    }
   ],
   "source": [
    "# KNN Classification and Confusion matrix\n",
    "from sklearn.metrics import classification_report\n",
    "from sklearn.metrics import confusion_matrix\n",
    "pred1 = knn1.predict(X1_test)\n",
    "print(confusion_matrix(y1_test, pred1))\n",
    "print(classification_report(y1_test, pred1))"
   ]
  },
  {
   "cell_type": "code",
   "execution_count": 82,
   "metadata": {},
   "outputs": [
    {
     "name": "stdout",
     "output_type": "stream",
     "text": [
      "Accuracy of SVM 2 classifier on training set: 0.86\n",
      "Accuracy of SVM 2 classifier on test set: 0.87\n",
      "Time 1.5869736671447753e-08\n"
     ]
    }
   ],
   "source": [
    "#SVM 2\n",
    "from sklearn.svm import SVC\n",
    "svm1= SVC(gamma= 'scale')\n",
    "svm1.fit(X1_train, y1_train)\n",
    "print('Accuracy of SVM 2 classifier on training set: {:.2f}'.format(svm1.score(X1_train, y1_train)))\n",
    "print('Accuracy of SVM 2 classifier on test set: {:.2f}'.format(svm1.score(X1_test, y1_test)))\n",
    "elapsed_time = timeit.timeit( number=100)/100\n",
    "print('Time',elapsed_time)"
   ]
  },
  {
   "cell_type": "code",
   "execution_count": 83,
   "metadata": {},
   "outputs": [
    {
     "name": "stdout",
     "output_type": "stream",
     "text": [
      "[[1197  243    0]\n",
      " [ 274 3320    0]\n",
      " [   0  180    0]]\n",
      "              precision    recall  f1-score   support\n",
      "\n",
      "           1       0.81      0.83      0.82      1440\n",
      "           2       0.89      0.92      0.91      3594\n",
      "           3       0.00      0.00      0.00       180\n",
      "\n",
      "    accuracy                           0.87      5214\n",
      "   macro avg       0.57      0.59      0.58      5214\n",
      "weighted avg       0.84      0.87      0.85      5214\n",
      "\n"
     ]
    },
    {
     "name": "stderr",
     "output_type": "stream",
     "text": [
      "/opt/conda/lib/python3.7/site-packages/sklearn/metrics/_classification.py:1272: UndefinedMetricWarning: Precision and F-score are ill-defined and being set to 0.0 in labels with no predicted samples. Use `zero_division` parameter to control this behavior.\n",
      "  _warn_prf(average, modifier, msg_start, len(result))\n"
     ]
    }
   ],
   "source": [
    "# SVM Classification and Confusion matrix\n",
    "from sklearn.metrics import classification_report\n",
    "from sklearn.metrics import confusion_matrix\n",
    "pred1 = svm1.predict(X1_test)\n",
    "print(confusion_matrix(y1_test, pred1))\n",
    "print(classification_report(y1_test, pred1))"
   ]
  },
  {
   "cell_type": "code",
   "execution_count": 84,
   "metadata": {},
   "outputs": [
    {
     "name": "stdout",
     "output_type": "stream",
     "text": [
      "Accuracy of naive bayes 2 classifier on training set: 0.73\n",
      "Accuracy of naive bayes 2 classifier on test set: 0.73\n",
      "Time 1.4137476682662964e-08\n"
     ]
    }
   ],
   "source": [
    "#Naive Bayes 2\n",
    "from sklearn.naive_bayes import GaussianNB\n",
    "gnb = GaussianNB()\n",
    "y_pred = gnb.fit(X1_train, y1_train).predict(X1_test)\n",
    "print('Accuracy of naive bayes 2 classifier on training set: {:.2f}'.format(gnb.score(X1_train, y1_train)))\n",
    "print('Accuracy of naive bayes 2 classifier on test set: {:.2f}'.format(gnb.score(X1_test, y1_test)))\n",
    "elapsed_time = timeit.timeit( number=100)/100\n",
    "print('Time',elapsed_time)"
   ]
  },
  {
   "cell_type": "code",
   "execution_count": 85,
   "metadata": {},
   "outputs": [
    {
     "name": "stdout",
     "output_type": "stream",
     "text": [
      "[[1113  327    0]\n",
      " [ 544 2569  481]\n",
      " [   5   61  114]]\n",
      "              precision    recall  f1-score   support\n",
      "\n",
      "           1       0.67      0.77      0.72      1440\n",
      "           2       0.87      0.71      0.78      3594\n",
      "           3       0.19      0.63      0.29       180\n",
      "\n",
      "    accuracy                           0.73      5214\n",
      "   macro avg       0.58      0.71      0.60      5214\n",
      "weighted avg       0.79      0.73      0.75      5214\n",
      "\n"
     ]
    }
   ],
   "source": [
    "# Naive Bayes Classification and Confusion matrix\n",
    "pred1 = gnb.predict(X1_test)\n",
    "print(confusion_matrix(y1_test, pred1))\n",
    "print(classification_report(y1_test, pred1))"
   ]
  },
  {
   "cell_type": "code",
   "execution_count": null,
   "metadata": {},
   "outputs": [],
   "source": []
  },
  {
   "cell_type": "code",
   "execution_count": null,
   "metadata": {},
   "outputs": [],
   "source": []
  },
  {
   "cell_type": "code",
   "execution_count": 86,
   "metadata": {},
   "outputs": [],
   "source": [
    "#Feature Selection\n",
    "from mlxtend.feature_selection import SequentialFeatureSelector as SFS\n",
    "from sklearn.linear_model import LinearRegression\n",
    "# Sequential Forward Selection(sfs)\n",
    "sfs = SFS(LinearRegression(),\n",
    "          k_features=11,\n",
    "          forward=True,\n",
    "          floating=False,\n",
    "          scoring = 'r2',\n",
    "          cv = 0)"
   ]
  },
  {
   "cell_type": "code",
   "execution_count": 87,
   "metadata": {},
   "outputs": [
    {
     "data": {
      "text/plain": [
       "('season',\n",
       " 'yr',\n",
       " 'mnth',\n",
       " 'hr',\n",
       " 'holiday',\n",
       " 'weekday',\n",
       " 'workingday',\n",
       " 'weathersit',\n",
       " 'atemp',\n",
       " 'hum',\n",
       " 'windspeed')"
      ]
     },
     "execution_count": 87,
     "metadata": {},
     "output_type": "execute_result"
    }
   ],
   "source": [
    "sfs.fit(X, y)\n",
    "sfs.k_feature_names_     # to get the final set of features"
   ]
  },
  {
   "cell_type": "code",
   "execution_count": 47,
   "metadata": {},
   "outputs": [],
   "source": [
    "df3 = pd.read_csv(\"hour.csv\")\n",
    "no_riders = tuple(range(0))\n",
    "low = tuple(range(1, 50, 1))\n",
    "med = tuple(range(50, 600, 1))\n",
    "high = tuple(range(600, 1000000, 1))\n",
    "# Defineing peramiters names\n",
    "def filter_riders(platform):\n",
    "    if platform in no_riders:\n",
    "        return '0'\n",
    "    elif platform in low:\n",
    "        return '1'\n",
    "    elif platform in med:\n",
    "        return '2'\n",
    "    else:\n",
    "        return '3'\n",
    "\n",
    "df3['cnt'].apply(filter_riders)\n",
    "df3['riders'] = df3['cnt'].apply(filter_riders)\n",
    "df3 = df3.drop(columns = [\"cnt\"])\n",
    "df3 = df3.drop(columns = [\"dteday\"])\n",
    "df3 = df3[['season',\n",
    " 'yr',\n",
    " 'hr',\n",
    " 'holiday',\n",
    " 'weekday',\n",
    " 'workingday',\n",
    " 'weathersit',\n",
    " 'temp',\n",
    " 'atemp',\n",
    " 'hum',\n",
    " 'windspeed','riders']]\n",
    "# Defining Data into X1,y1\n",
    "X1 = np.array(df3.iloc[:,0:10])\n",
    "y1 = np.array(df3['riders'])\n",
    "\n",
    "from sklearn.model_selection import train_test_split\n",
    "X1_train, X1_test, y1_train, y1_test = train_test_split(X1, y1,test_size= 0.3, random_state =42)"
   ]
  },
  {
   "cell_type": "code",
   "execution_count": 48,
   "metadata": {},
   "outputs": [
    {
     "name": "stdout",
     "output_type": "stream",
     "text": [
      "Accuracy of Decision tree 3 classifier on training set: 1.00\n",
      "Accuracy of Decision tree 3 classifier on test set: 0.93\n",
      "Time 1.6130506992340088e-08\n"
     ]
    }
   ],
   "source": [
    "# Decision Tree Classifier 3\n",
    "from sklearn.tree import DecisionTreeClassifier\n",
    "from sklearn import metrics\n",
    "clf1 = DecisionTreeClassifier().fit(X1_train, y1_train)\n",
    "print('Accuracy of Decision tree 3 classifier on training set: {:.2f}'.format(clf1.score(X1_train, y1_train)))\n",
    "print('Accuracy of Decision tree 3 classifier on test set: {:.2f}' .format(clf1.score(X1_test, y1_test)))\n",
    "elapsed_time = timeit.timeit( number=100)/100\n",
    "print('Time',elapsed_time)"
   ]
  },
  {
   "cell_type": "code",
   "execution_count": 49,
   "metadata": {},
   "outputs": [
    {
     "name": "stdout",
     "output_type": "stream",
     "text": [
      "[[1301  139    0]\n",
      " [ 139 3405   50]\n",
      " [   0   40  140]]\n",
      "              precision    recall  f1-score   support\n",
      "\n",
      "           1       0.90      0.90      0.90      1440\n",
      "           2       0.95      0.95      0.95      3594\n",
      "           3       0.74      0.78      0.76       180\n",
      "\n",
      "    accuracy                           0.93      5214\n",
      "   macro avg       0.86      0.88      0.87      5214\n",
      "weighted avg       0.93      0.93      0.93      5214\n",
      "\n"
     ]
    }
   ],
   "source": [
    "# Decision Tree Classification and Confusion matrix\n",
    "from sklearn.metrics import classification_report\n",
    "from sklearn.metrics import confusion_matrix\n",
    "pred1 = clf1.predict(X1_test)\n",
    "print(confusion_matrix(y1_test, pred1))\n",
    "print(classification_report(y1_test, pred1))"
   ]
  },
  {
   "cell_type": "code",
   "execution_count": 50,
   "metadata": {},
   "outputs": [
    {
     "name": "stdout",
     "output_type": "stream",
     "text": [
      "Accuracy of K-NN 1 classifier on training set: 0.95\n",
      "Accuracy of K-NN 1 classifier on test set: 0.94\n",
      "Time 1.94646418094635e-08\n"
     ]
    }
   ],
   "source": [
    "# KNN 3\n",
    "# Takes a long time\n",
    "from sklearn.neighbors import KNeighborsClassifier\n",
    "from sklearn.metrics import accuracy_score\n",
    "knn1 = KNeighborsClassifier()\n",
    "knn1.fit(X1_train, y1_train)\n",
    "print('Accuracy of K-NN 1 classifier on training set: {:.2f}'.format(knn1.score(X1_train,y1_train)))\n",
    "print('Accuracy of K-NN 1 classifier on test set: {:.2f}'.format(knn1.score(X1_test,y1_test)))\n",
    "elapsed_time = timeit.timeit( number=100)/100\n",
    "print('Time',elapsed_time)"
   ]
  },
  {
   "cell_type": "code",
   "execution_count": 51,
   "metadata": {},
   "outputs": [
    {
     "name": "stdout",
     "output_type": "stream",
     "text": [
      "[[1286  154    0]\n",
      " [  86 3461   47]\n",
      " [   0   43  137]]\n",
      "              precision    recall  f1-score   support\n",
      "\n",
      "           1       0.94      0.89      0.91      1440\n",
      "           2       0.95      0.96      0.95      3594\n",
      "           3       0.74      0.76      0.75       180\n",
      "\n",
      "    accuracy                           0.94      5214\n",
      "   macro avg       0.88      0.87      0.87      5214\n",
      "weighted avg       0.94      0.94      0.94      5214\n",
      "\n"
     ]
    }
   ],
   "source": [
    "# KNN Classification and Confusion matrix\n",
    "from sklearn.metrics import classification_report\n",
    "from sklearn.metrics import confusion_matrix\n",
    "pred1 = knn1.predict(X1_test)\n",
    "print(confusion_matrix(y1_test, pred1))\n",
    "print(classification_report(y1_test, pred1))"
   ]
  },
  {
   "cell_type": "code",
   "execution_count": 52,
   "metadata": {},
   "outputs": [
    {
     "name": "stdout",
     "output_type": "stream",
     "text": [
      "Accuracy of SVM 3 classifier on training set: 0.87\n",
      "Accuracy of SVM 3 classifier on test set: 0.88\n",
      "Time 2.0293518900871276e-08\n"
     ]
    }
   ],
   "source": [
    "#SVM 3\n",
    "from sklearn.svm import SVC\n",
    "svm1= SVC(gamma= 'scale')\n",
    "svm1.fit(X1_train, y1_train)\n",
    "print('Accuracy of SVM 3 classifier on training set: {:.2f}'.format(svm1.score(X1_train, y1_train)))\n",
    "print('Accuracy of SVM 3 classifier on test set: {:.2f}'.format(svm1.score(X1_test, y1_test)))\n",
    "elapsed_time = timeit.timeit( number=100)/100\n",
    "print('Time',elapsed_time)"
   ]
  },
  {
   "cell_type": "code",
   "execution_count": 53,
   "metadata": {},
   "outputs": [
    {
     "name": "stdout",
     "output_type": "stream",
     "text": [
      "[[1226  214    0]\n",
      " [ 250 3344    0]\n",
      " [   0  180    0]]\n",
      "              precision    recall  f1-score   support\n",
      "\n",
      "           1       0.83      0.85      0.84      1440\n",
      "           2       0.89      0.93      0.91      3594\n",
      "           3       0.00      0.00      0.00       180\n",
      "\n",
      "    accuracy                           0.88      5214\n",
      "   macro avg       0.58      0.59      0.58      5214\n",
      "weighted avg       0.85      0.88      0.86      5214\n",
      "\n"
     ]
    },
    {
     "name": "stderr",
     "output_type": "stream",
     "text": [
      "/opt/conda/lib/python3.7/site-packages/sklearn/metrics/_classification.py:1272: UndefinedMetricWarning: Precision and F-score are ill-defined and being set to 0.0 in labels with no predicted samples. Use `zero_division` parameter to control this behavior.\n",
      "  _warn_prf(average, modifier, msg_start, len(result))\n"
     ]
    }
   ],
   "source": [
    "# SVM Classification and Confusion matrix\n",
    "from sklearn.metrics import classification_report\n",
    "from sklearn.metrics import confusion_matrix\n",
    "pred1 = svm1.predict(X1_test)\n",
    "print(confusion_matrix(y1_test, pred1))\n",
    "print(classification_report(y1_test, pred1))"
   ]
  },
  {
   "cell_type": "code",
   "execution_count": 54,
   "metadata": {},
   "outputs": [
    {
     "name": "stdout",
     "output_type": "stream",
     "text": [
      "Accuracy of naive bayes 3 classifier on training set: 0.69\n",
      "Accuracy of naive bayes 3 classifier on test set: 0.69\n",
      "Time 2.0051375031471254e-08\n"
     ]
    }
   ],
   "source": [
    "from sklearn.naive_bayes import GaussianNB\n",
    "gnb = GaussianNB()\n",
    "y_pred = gnb.fit(X1_train, y1_train).predict(X1_test)\n",
    "print('Accuracy of naive bayes 3 classifier on training set: {:.2f}'.format(gnb.score(X1_train, y1_train)))\n",
    "print('Accuracy of naive bayes 3 classifier on test set: {:.2f}'.format(gnb.score(X1_test, y1_test)))\n",
    "elapsed_time = timeit.timeit( number=100)/100\n",
    "print('Time',elapsed_time)"
   ]
  },
  {
   "cell_type": "code",
   "execution_count": 55,
   "metadata": {},
   "outputs": [
    {
     "name": "stdout",
     "output_type": "stream",
     "text": [
      "[[1056  381    3]\n",
      " [ 603 2423  568]\n",
      " [   6   49  125]]\n",
      "              precision    recall  f1-score   support\n",
      "\n",
      "           1       0.63      0.73      0.68      1440\n",
      "           2       0.85      0.67      0.75      3594\n",
      "           3       0.18      0.69      0.29       180\n",
      "\n",
      "    accuracy                           0.69      5214\n",
      "   macro avg       0.55      0.70      0.57      5214\n",
      "weighted avg       0.77      0.69      0.72      5214\n",
      "\n"
     ]
    }
   ],
   "source": [
    "# Naive Bayes Classification and Confusion matrix\n",
    "pred1 = gnb.predict(X1_test)\n",
    "print(confusion_matrix(y1_test, pred1))\n",
    "print(classification_report(y1_test, pred1))"
   ]
  },
  {
   "cell_type": "code",
   "execution_count": null,
   "metadata": {},
   "outputs": [],
   "source": []
  },
  {
   "cell_type": "code",
   "execution_count": 56,
   "metadata": {},
   "outputs": [],
   "source": [
    "def backward_elimination(data, target,significance_level = 0.05):\n",
    "    features = data.columns.tolist()\n",
    "    while(len(features)>0):\n",
    "        features_with_constant = sm.add_constant(data[features])\n",
    "        p_values = sm.OLS(target, features_with_constant).fit().pvalues[1:]\n",
    "        max_p_value = p_values.max()\n",
    "        if(max_p_value >= significance_level):\n",
    "            excluded_feature = p_values.idxmax()\n",
    "            features.remove(excluded_feature)\n",
    "        else:\n",
    "            break \n",
    "    return features"
   ]
  },
  {
   "cell_type": "code",
   "execution_count": 57,
   "metadata": {},
   "outputs": [
    {
     "data": {
      "text/plain": [
       "('season',\n",
       " 'yr',\n",
       " 'mnth',\n",
       " 'hr',\n",
       " 'holiday',\n",
       " 'weekday',\n",
       " 'workingday',\n",
       " 'weathersit',\n",
       " 'atemp',\n",
       " 'hum',\n",
       " 'windspeed')"
      ]
     },
     "execution_count": 57,
     "metadata": {},
     "output_type": "execute_result"
    }
   ],
   "source": [
    "#Sequential backward selection(sbs)\n",
    "#ends up being the same as sequential forward selection\n",
    "sbs = SFS(LinearRegression(),\n",
    "         k_features=11,\n",
    "         forward=False,\n",
    "         floating=False,\n",
    "         cv=0)\n",
    "sbs.fit(X, y)\n",
    "sbs.k_feature_names_"
   ]
  },
  {
   "cell_type": "code",
   "execution_count": 58,
   "metadata": {},
   "outputs": [
    {
     "name": "stdout",
     "output_type": "stream",
     "text": [
      "hum          -0.322911\n",
      "weathersit   -0.142426\n",
      "holiday      -0.030927\n",
      "weekday       0.026900\n",
      "workingday    0.030284\n",
      "windspeed     0.093234\n",
      "mnth          0.120638\n",
      "season        0.178056\n",
      "yr            0.250495\n",
      "hr            0.394071\n",
      "atemp         0.400929\n",
      "dtype: float64\n"
     ]
    }
   ],
   "source": [
    "importances = dffs.drop(\"cnt\", axis=1).apply(lambda x: x.corr(dffs.cnt))\n",
    "indices = np.argsort(importances)\n",
    "print(importances[indices])"
   ]
  },
  {
   "cell_type": "code",
   "execution_count": 59,
   "metadata": {},
   "outputs": [
    {
     "data": {
      "image/png": "[encoded data removed]",
      "text/plain": [
       "<Figure size 432x288 with 1 Axes>"
      ]
     },
     "metadata": {},
     "output_type": "display_data"
    }
   ],
   "source": [
    "names=['instant', 'season', 'yr', 'mnth', 'hr', 'holiday', 'weekday',\n",
    "       'workingday', 'weathersit', 'temp', 'atemp', 'hum', 'windspeed']\n",
    "plt.title('Riders')\n",
    "plt.barh(range(len(indices)), importances[indices], color='g', align='center')\n",
    "plt.yticks(range(len(indices)), [names[i] for i in indices])\n",
    "plt.xlabel('Relative Importance')\n",
    "plt.show()"
   ]
  },
  {
   "cell_type": "code",
   "execution_count": 60,
   "metadata": {},
   "outputs": [
    {
     "name": "stdout",
     "output_type": "stream",
     "text": [
      "season\n",
      "mnth\n",
      "weathersit\n",
      "temp\n"
     ]
    }
   ],
   "source": [
    "for i in range(0, len(indices)):\n",
    "    if np.abs(importances[i])>0.2:\n",
    "        print(names[i])"
   ]
  },
  {
   "cell_type": "code",
   "execution_count": null,
   "metadata": {},
   "outputs": [],
   "source": []
  },
  {
   "cell_type": "code",
   "execution_count": 88,
   "metadata": {},
   "outputs": [],
   "source": [
    "df4 = pd.read_csv(\"hour.csv\")\n",
    "no_riders = tuple(range(0))\n",
    "low = tuple(range(1, 50, 1))\n",
    "med = tuple(range(50, 600, 1))\n",
    "high = tuple(range(600, 1000000, 1))\n",
    "# Defineing peramiters names\n",
    "def filter_riders(platform):\n",
    "    if platform in no_riders:\n",
    "        return '0'\n",
    "    elif platform in low:\n",
    "        return '1'\n",
    "    elif platform in med:\n",
    "        return '2'\n",
    "    else:\n",
    "        return '3'\n",
    "\n",
    "df4['cnt'].apply(filter_riders)\n",
    "df4['riders'] = df4['cnt'].apply(filter_riders)\n",
    "df4 = df4.drop(columns = [\"cnt\"])\n",
    "df4 = df4.drop(columns = [\"dteday\"])\n",
    "df4 = df4[['season','mnth','weathersit','temp','riders']]\n",
    "# Defining Data into X1,y1\n",
    "X1 = np.array(df4.iloc[:,0:3])\n",
    "y1 = np.array(df4['riders'])\n",
    "\n",
    "from sklearn.model_selection import train_test_split\n",
    "X1_train, X1_test, y1_train, y1_test = train_test_split(X1, y1,test_size= 0.3, random_state =42)"
   ]
  },
  {
   "cell_type": "code",
   "execution_count": 89,
   "metadata": {},
   "outputs": [
    {
     "name": "stdout",
     "output_type": "stream",
     "text": [
      "Accuracy of Decision tree 4 classifier on training set: 0.69\n",
      "Accuracy of Decision tree 4 classifier on test set: 0.69\n",
      "Time 1.5068799257278442e-08\n"
     ]
    }
   ],
   "source": [
    "# Decision Tree Classifier 4\n",
    "from sklearn.tree import DecisionTreeClassifier\n",
    "from sklearn import metrics\n",
    "clf1 = DecisionTreeClassifier().fit(X1_train, y1_train)\n",
    "print('Accuracy of Decision tree 4 classifier on training set: {:.2f}'.format(clf1.score(X1_train, y1_train)))\n",
    "print('Accuracy of Decision tree 4 classifier on test set: {:.2f}' .format(clf1.score(X1_test, y1_test)))\n",
    "elapsed_time = timeit.timeit( number=100)/100\n",
    "print('Time',elapsed_time)"
   ]
  },
  {
   "cell_type": "code",
   "execution_count": 90,
   "metadata": {},
   "outputs": [
    {
     "name": "stdout",
     "output_type": "stream",
     "text": [
      "[[  67 1373    0]\n",
      " [  43 3551    0]\n",
      " [   0  180    0]]\n",
      "              precision    recall  f1-score   support\n",
      "\n",
      "           1       0.61      0.05      0.09      1440\n",
      "           2       0.70      0.99      0.82      3594\n",
      "           3       0.00      0.00      0.00       180\n",
      "\n",
      "    accuracy                           0.69      5214\n",
      "   macro avg       0.43      0.34      0.30      5214\n",
      "weighted avg       0.65      0.69      0.59      5214\n",
      "\n"
     ]
    },
    {
     "name": "stderr",
     "output_type": "stream",
     "text": [
      "/opt/conda/lib/python3.7/site-packages/sklearn/metrics/_classification.py:1272: UndefinedMetricWarning: Precision and F-score are ill-defined and being set to 0.0 in labels with no predicted samples. Use `zero_division` parameter to control this behavior.\n",
      "  _warn_prf(average, modifier, msg_start, len(result))\n"
     ]
    }
   ],
   "source": [
    "# Decision Tree Classification and Confusion matrix\n",
    "from sklearn.metrics import classification_report\n",
    "from sklearn.metrics import confusion_matrix\n",
    "pred1 = clf1.predict(X1_test)\n",
    "print(confusion_matrix(y1_test, pred1))\n",
    "print(classification_report(y1_test, pred1))"
   ]
  },
  {
   "cell_type": "code",
   "execution_count": 91,
   "metadata": {},
   "outputs": [
    {
     "name": "stdout",
     "output_type": "stream",
     "text": [
      "Accuracy of K-NN 4 classifier on training set: 0.62\n",
      "Accuracy of K-NN 4 classifier on test set: 0.63\n",
      "Time 1.4351680874824524e-08\n"
     ]
    }
   ],
   "source": [
    "# KNN 4\n",
    "# Takes a long time\n",
    "from sklearn.neighbors import KNeighborsClassifier\n",
    "from sklearn.metrics import accuracy_score\n",
    "knn1 = KNeighborsClassifier()\n",
    "knn1.fit(X1_train, y1_train)\n",
    "print('Accuracy of K-NN 4 classifier on training set: {:.2f}'.format(knn1.score(X1_train,y1_train)))\n",
    "print('Accuracy of K-NN 4 classifier on test set: {:.2f}'.format(knn1.score(X1_test,y1_test)))\n",
    "elapsed_time = timeit.timeit( number=100)/100\n",
    "print('Time',elapsed_time)"
   ]
  },
  {
   "cell_type": "code",
   "execution_count": 92,
   "metadata": {},
   "outputs": [
    {
     "name": "stdout",
     "output_type": "stream",
     "text": [
      "[[ 360 1080    0]\n",
      " [ 662 2932    0]\n",
      " [  38  142    0]]\n",
      "              precision    recall  f1-score   support\n",
      "\n",
      "           1       0.34      0.25      0.29      1440\n",
      "           2       0.71      0.82      0.76      3594\n",
      "           3       0.00      0.00      0.00       180\n",
      "\n",
      "    accuracy                           0.63      5214\n",
      "   macro avg       0.35      0.36      0.35      5214\n",
      "weighted avg       0.58      0.63      0.60      5214\n",
      "\n"
     ]
    },
    {
     "name": "stderr",
     "output_type": "stream",
     "text": [
      "/opt/conda/lib/python3.7/site-packages/sklearn/metrics/_classification.py:1272: UndefinedMetricWarning: Precision and F-score are ill-defined and being set to 0.0 in labels with no predicted samples. Use `zero_division` parameter to control this behavior.\n",
      "  _warn_prf(average, modifier, msg_start, len(result))\n"
     ]
    }
   ],
   "source": [
    "# KNN Classification and Confusion matrix\n",
    "from sklearn.metrics import classification_report\n",
    "from sklearn.metrics import confusion_matrix\n",
    "pred1 = knn1.predict(X1_test)\n",
    "print(confusion_matrix(y1_test, pred1))\n",
    "print(classification_report(y1_test, pred1))"
   ]
  },
  {
   "cell_type": "code",
   "execution_count": 93,
   "metadata": {},
   "outputs": [
    {
     "name": "stdout",
     "output_type": "stream",
     "text": [
      "Accuracy of SVM 4 classifier on training set: 0.68\n",
      "Accuracy of SVM 4 classifier on test set: 0.69\n",
      "Time 1.9548460841178893e-08\n"
     ]
    }
   ],
   "source": [
    "#SVM 4\n",
    "from sklearn.svm import SVC\n",
    "svm1= SVC(gamma= 'scale')\n",
    "svm1.fit(X1_train, y1_train)\n",
    "print('Accuracy of SVM 4 classifier on training set: {:.2f}'.format(svm1.score(X1_train, y1_train)))\n",
    "print('Accuracy of SVM 4 classifier on test set: {:.2f}'.format(svm1.score(X1_test, y1_test)))\n",
    "elapsed_time = timeit.timeit( number=100)/100\n",
    "print('Time',elapsed_time)"
   ]
  },
  {
   "cell_type": "code",
   "execution_count": 94,
   "metadata": {},
   "outputs": [
    {
     "name": "stdout",
     "output_type": "stream",
     "text": [
      "[[   0 1440    0]\n",
      " [   0 3594    0]\n",
      " [   0  180    0]]\n",
      "              precision    recall  f1-score   support\n",
      "\n",
      "           1       0.00      0.00      0.00      1440\n",
      "           2       0.69      1.00      0.82      3594\n",
      "           3       0.00      0.00      0.00       180\n",
      "\n",
      "    accuracy                           0.69      5214\n",
      "   macro avg       0.23      0.33      0.27      5214\n",
      "weighted avg       0.48      0.69      0.56      5214\n",
      "\n"
     ]
    },
    {
     "name": "stderr",
     "output_type": "stream",
     "text": [
      "/opt/conda/lib/python3.7/site-packages/sklearn/metrics/_classification.py:1272: UndefinedMetricWarning: Precision and F-score are ill-defined and being set to 0.0 in labels with no predicted samples. Use `zero_division` parameter to control this behavior.\n",
      "  _warn_prf(average, modifier, msg_start, len(result))\n"
     ]
    }
   ],
   "source": [
    "# SVM Classification and Confusion matrix\n",
    "from sklearn.metrics import classification_report\n",
    "from sklearn.metrics import confusion_matrix\n",
    "pred1 = svm1.predict(X1_test)\n",
    "print(confusion_matrix(y1_test, pred1))\n",
    "print(classification_report(y1_test, pred1))"
   ]
  },
  {
   "cell_type": "code",
   "execution_count": 95,
   "metadata": {},
   "outputs": [
    {
     "name": "stdout",
     "output_type": "stream",
     "text": [
      "Accuracy of naive bayes 4 classifier on training set: 0.68\n",
      "Accuracy of naive bayes 4 classifier on test set: 0.69\n",
      "Time 1.393258571624756e-08\n"
     ]
    }
   ],
   "source": [
    "# Naive Bayes 4\n",
    "from sklearn.naive_bayes import GaussianNB\n",
    "gnb = GaussianNB()\n",
    "y_pred = gnb.fit(X1_train, y1_train).predict(X1_test)\n",
    "print('Accuracy of naive bayes 4 classifier on training set: {:.2f}'.format(gnb.score(X1_train, y1_train)))\n",
    "print('Accuracy of naive bayes 4 classifier on test set: {:.2f}'.format(gnb.score(X1_test, y1_test)))\n",
    "elapsed_time = timeit.timeit( number=100)/100\n",
    "print('Time',elapsed_time)"
   ]
  },
  {
   "cell_type": "code",
   "execution_count": 96,
   "metadata": {},
   "outputs": [
    {
     "name": "stdout",
     "output_type": "stream",
     "text": [
      "[[ 122 1318    0]\n",
      " [  97 3497    0]\n",
      " [   0  180    0]]\n",
      "              precision    recall  f1-score   support\n",
      "\n",
      "           1       0.56      0.08      0.15      1440\n",
      "           2       0.70      0.97      0.81      3594\n",
      "           3       0.00      0.00      0.00       180\n",
      "\n",
      "    accuracy                           0.69      5214\n",
      "   macro avg       0.42      0.35      0.32      5214\n",
      "weighted avg       0.64      0.69      0.60      5214\n",
      "\n"
     ]
    },
    {
     "name": "stderr",
     "output_type": "stream",
     "text": [
      "/opt/conda/lib/python3.7/site-packages/sklearn/metrics/_classification.py:1272: UndefinedMetricWarning: Precision and F-score are ill-defined and being set to 0.0 in labels with no predicted samples. Use `zero_division` parameter to control this behavior.\n",
      "  _warn_prf(average, modifier, msg_start, len(result))\n"
     ]
    }
   ],
   "source": [
    "# Naive Bayes Classification and Confusion matrix\n",
    "pred1 = gnb.predict(X1_test)\n",
    "print(confusion_matrix(y1_test, pred1))\n",
    "print(classification_report(y1_test, pred1))"
   ]
  },
  {
   "cell_type": "code",
   "execution_count": null,
   "metadata": {},
   "outputs": [],
   "source": []
  }
 ],
 "metadata": {
  "kernelspec": {
   "display_name": "Python 3",
   "language": "python",
   "name": "python3"
  },
  "language_info": {
   "codemirror_mode": {
    "name": "ipython",
    "version": 3
   },
   "file_extension": ".py",
   "mimetype": "text/x-python",
   "name": "python",
   "nbconvert_exporter": "python",
   "pygments_lexer": "ipython3",
   "version": "3.7.6"
  }
 },
 "nbformat": 4,
 "nbformat_minor": 4
}
